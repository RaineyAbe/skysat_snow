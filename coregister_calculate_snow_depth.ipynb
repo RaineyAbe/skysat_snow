{
 "cells": [
  {
   "cell_type": "markdown",
   "id": "a22de3b1-9ad7-495a-8c24-de896e5ca23f",
   "metadata": {},
   "source": [
    "# Coregister DEMs to a reference DEM using the method by Nuth and Kaab (2011) and stable surfaces correction"
   ]
  },
  {
   "cell_type": "code",
   "execution_count": 1,
   "id": "b2b33ad6-1a2f-49cb-bc91-fbf22f13ddf8",
   "metadata": {},
   "outputs": [],
   "source": [
    "import xdem\n",
    "import matplotlib.pyplot as plt\n",
    "import numpy as np\n",
    "import os\n",
    "import glob\n",
    "import rasterio as rio\n",
    "import geoutils as gu\n",
    "import pyproj\n",
    "from scipy.stats import median_abs_deviation as MAD\n",
    "import warnings\n",
    "warnings.filterwarnings('ignore')"
   ]
  },
  {
   "cell_type": "markdown",
   "id": "ba564886-b22a-4ec3-bc4f-5fe64503fdd0",
   "metadata": {},
   "source": [
    "## Load DEMs"
   ]
  },
  {
   "cell_type": "code",
   "execution_count": 3,
   "id": "64d0d929-f678-4af2-b7cd-6c35cd2f47e1",
   "metadata": {},
   "outputs": [],
   "source": [
    "# Load DEM file names\n",
    "data_path = '/Users/rdcrlrka/Research/PhD/study_sites/MCS/'\n",
    "refdem_fn = os.path.join(data_path, 'refdem', 'MCS_REFDEM_WGS84.tif')\n",
    "sourcedem_fn = os.path.join(data_path, '20240420', 'MCS_20240420_DEM.tif')"
   ]
  },
  {
   "cell_type": "code",
   "execution_count": null,
   "id": "cf1cc2f5-ff5c-4a33-b754-0f6ae566859f",
   "metadata": {},
   "outputs": [],
   "source": [
    "# Load reference DEM\n",
    "# Note: XDEM can only read a file with one band, so we first read the DEMs using geoutils to select the first band\n",
    "ref_dem = xdem.DEM(gu.Raster(ref_dem_fn, load_data=True, bands=1))\n",
    "ref_dem.set_nodata(0, update_array=False)\n",
    "ref_dem.plot()\n",
    "plt.title(os.path.basename(ref_dem_fn))\n",
    "plt.show()"
   ]
  },
  {
   "cell_type": "code",
   "execution_count": null,
   "id": "1a4d99df-7efa-42ab-9804-e20b4dd6b5a5",
   "metadata": {},
   "outputs": [],
   "source": [
    "def coregister(coreg_obj, ref_dem, source_dem, ss_mask, vmin=-1, vmax=1):\n",
    "    # Set up figure\n",
    "    fig, ax = plt.subplots(2, 3, figsize=(12,8))\n",
    "    ax = ax.flatten()\n",
    "    \n",
    "    # Calculate difference before registration\n",
    "    diff_before = source_dem - ref_dem\n",
    "    diff_before.set_nodata(0)\n",
    "    # calculate differences over stable surfaces\n",
    "    ss_mask = ss_mask.reproject(diff_before)\n",
    "    diff_before_ss = diff_before[ss_mask]\n",
    "    med_before_ss, nmad_before_ss = np.median(diff_before_ss), xdem.spatialstats.nmad(diff_before_ss)\n",
    "    # plot\n",
    "    diff_before.plot(cmap=\"coolwarm_r\", vmin=vmin, vmax=vmax, ax=ax[0])\n",
    "    ax[0].set_title(f'Difference before coreg. \\nSS median = {np.round(med_before_ss,3)}, SS NMAD = {np.round(nmad_before_ss,3)}')\n",
    "        \n",
    "    # Apply coregistration\n",
    "    coreg_obj.fit(ref_dem, source_dem)\n",
    "    aligned_dem = coreg_obj.apply(source_dem)\n",
    "    diff_after = aligned_dem - ref_dem\n",
    "    # calculate differences over stable surfaces\n",
    "    ss_mask = ss_mask.reproject(diff_after)\n",
    "    diff_after_ss = diff_after[ss_mask]\n",
    "    med_after_ss, nmad_after_ss = np.median(diff_after_ss), xdem.spatialstats.nmad(diff_after_ss)\n",
    "    # plot\n",
    "    diff_after.plot(cmap=\"coolwarm_r\", vmin=vmin, vmax=vmax, ax=ax[1])\n",
    "    ax[1].set_title(f'Difference after coreg. \\nSS median = {np.round(med_after_ss,3)}, SS NMAD = {np.round(nmad_after_ss,3)}')\n",
    "    ax[1].set_yticklabels([])\n",
    "    ax[4].hist(np.ravel(diff_after.data), bins=50)\n",
    "    ax[4].set_xlabel('Difference [m]')\n",
    "    ax[4].set_ylabel('Counts')\n",
    "\n",
    "    # Subtract the median difference over stable surfaces\n",
    "    diff_after_adj = diff_after - med_after_ss\n",
    "    # calculate differences over stable surfaces\n",
    "    ss_mask = ss_mask.reproject(diff_after_adj)\n",
    "    diff_after_adj_ss = diff_after_adj[ss_mask]\n",
    "    med_after_adj_ss, nmad_after_adj_ss = np.median(diff_after_adj_ss), xdem.spatialstats.nmad(diff_after_adj_ss)\n",
    "    # plot\n",
    "    diff_after_adj.plot(cmap=\"coolwarm_r\", vmin=vmin, vmax=vmax, ax=ax[2])\n",
    "    ax[2].set_title(f'Difference after coreg. and \\nremoving median SS difference'\n",
    "                    f'\\nSS median = {np.round(med_after_adj_ss,3)}, SS NMAD = {np.round(med_after_adj_ss, 3)}')\n",
    "    ax[2].set_yticklabels([])\n",
    "    ax[5].hist(np.ravel(diff_after_adj.data), bins=50)\n",
    "    ax[5].set_xlabel('Difference [m]')\n",
    "    ax[5].set_ylabel('Counts')\n",
    "\n",
    "    ax[3].remove()\n",
    "    fig.subplots_adjust(wspace=0.2)\n",
    "    plt.show()\n",
    "\n",
    "    return diff_after, diff_after_adj"
   ]
  },
  {
   "cell_type": "code",
   "execution_count": null,
   "id": "4f399d73-6b19-410c-ab4d-a10d4be8766e",
   "metadata": {
    "scrolled": true
   },
   "outputs": [],
   "source": [
    "# ------Iterate over source DEMs\n",
    "for fn in [tba_dem_fn]:\n",
    "    print(f'\\n{os.path.basename(fn)}')\n",
    "    \n",
    "    # Load DEM\n",
    "    tba_dem = xdem.DEM(gu.Raster(fn, load_data=True, bands=1))\n",
    "    tba_dem.set_nodata(0, update_mask=False, update_array=False)\n",
    "    \n",
    "    # Reproject to the reference DEM coordinates, etc.\n",
    "    tba_dem = tba_dem.reproject(ref_dem)\n",
    "\n",
    "    # Load stable surface mask\n",
    "    tba_ss_fn = [x for x in ss_fns if os.path.basename(fn)[0:8] in os.path.basename(x)][0]\n",
    "    tba_ss = gu.Raster(tba_ss_fn, load_data=True)\n",
    "    \n",
    "    # Reproject source DEM to reference DEM coords\n",
    "    tba_ss = tba_ss.reproject(ref_ss, nodata=0)\n",
    "    \n",
    "    # Combine masks\n",
    "    combined_mask_array = (ref_ss.data == 1) & (tba_ss.data == 1)\n",
    "    combined_mask = gu.Mask.from_array(combined_mask_array, \n",
    "                                       transform=ref_ss.transform, \n",
    "                                       crs=ref_ss.crs,\n",
    "                                       nodata=0)\n",
    "    combined_mask.set_nodata(0)\n",
    "\n",
    "    # -----Apply Nuth and Kaab registration\n",
    "    print('\\nNuth and Kaab coregistration...')\n",
    "    coreg_obj = xdem.coreg.NuthKaab()\n",
    "    diff_nk, diff_adj_nk = coregister(coreg_obj, ref_dem, tba_dem, combined_mask)\n",
    "\n",
    "    # -----Apply gradient descent coregistration\n",
    "    # print('\\nGradient descent coregistration...')\n",
    "    # coreg_obj = xdem.coreg.GradientDescending()\n",
    "    # diff_gd, diff_adj_gd = coregister(coreg_obj, ref_dem, tba_dem, combined_mask)"
   ]
  },
  {
   "cell_type": "code",
   "execution_count": null,
   "id": "70f12d8f-8776-4f52-9b82-6a3f37914dd6",
   "metadata": {},
   "outputs": [],
   "source": [
    "plt.figure(figsize=(10,10))\n",
    "diff_adj_nk.plot(cmap='coolwarm_r', vmin=-0.5, vmax=0.5)\n",
    "plt.show()"
   ]
  },
  {
   "cell_type": "code",
   "execution_count": null,
   "id": "d939664b-400e-4bab-a710-154242b9404c",
   "metadata": {},
   "outputs": [],
   "source": [
    "sorted(glob.glob(os.path.join(data_path, '*S2_SR*.tif')))"
   ]
  },
  {
   "cell_type": "code",
   "execution_count": null,
   "id": "61d6ada5-f4a6-4c7a-9858-d041d8b1654d",
   "metadata": {},
   "outputs": [],
   "source": [
    "tba_dem_fn"
   ]
  },
  {
   "cell_type": "code",
   "execution_count": null,
   "id": "36f3ccaa-a17f-4a1d-b871-a9c0a30d714b",
   "metadata": {},
   "outputs": [],
   "source": [
    "import xarray as xr"
   ]
  },
  {
   "cell_type": "code",
   "execution_count": null,
   "id": "d6a3240c-7c6e-489c-b23a-9b69894ace40",
   "metadata": {},
   "outputs": [],
   "source": [
    "im_fn = os.path.join(data_path, '20240318_S2_SR_HARMONIZED.tif')\n",
    "im_xr = xr.open_dataset(im_fn)\n",
    "im_xr = ref_im_xr / 1e4\n",
    "\n",
    "plt.imshow(np.dstack([im_xr.band_data.data[3], im_xr.band_data.data[2], im_xr.band_data.data[1]]),\n",
    "           extent=(np.min(im_xr.x.data), np.max(im_xr.x.data), np.min(im_xr.y.data), np.max(im_xr.y.data)))\n",
    "plt.show()"
   ]
  },
  {
   "cell_type": "code",
   "execution_count": null,
   "id": "6614fb28-0a37-4c57-9899-68f4eb5f33c4",
   "metadata": {},
   "outputs": [],
   "source": [
    "ref_dem_fn"
   ]
  }
 ],
 "metadata": {
  "kernelspec": {
   "display_name": "snow-dems",
   "language": "python",
   "name": "snow-dems"
  },
  "language_info": {
   "codemirror_mode": {
    "name": "ipython",
    "version": 3
   },
   "file_extension": ".py",
   "mimetype": "text/x-python",
   "name": "python",
   "nbconvert_exporter": "python",
   "pygments_lexer": "ipython3",
   "version": "3.11.8"
  }
 },
 "nbformat": 4,
 "nbformat_minor": 5
}
