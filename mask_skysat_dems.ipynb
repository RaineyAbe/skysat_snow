{
 "cells": [
  {
   "cell_type": "markdown",
   "id": "b949edda-ebe1-484e-a0b6-63ed75784ebe",
   "metadata": {},
   "source": [
    "# Mask output SkySat DEMs using the NMAD "
   ]
  },
  {
   "cell_type": "code",
   "execution_count": null,
   "id": "e758cdab-9607-4d40-999d-40e32a9b23bf",
   "metadata": {},
   "outputs": [],
   "source": [
    "import xarray as xr\n",
    "import rioxarray as rxr\n",
    "import matplotlib.pyplot as plt\n",
    "from matplotlib.colors import LinearSegmentedColormap\n",
    "import numpy as np\n",
    "import os, glob\n",
    "from scipy.stats import iqr"
   ]
  },
  {
   "cell_type": "markdown",
   "id": "9763f736-4f2c-4278-87df-f8ca26c357d3",
   "metadata": {},
   "source": [
    "## Define paths to data files"
   ]
  },
  {
   "cell_type": "code",
   "execution_count": null,
   "id": "caea2c69-bd45-47e1-9f56-f7c2d06f5bb8",
   "metadata": {},
   "outputs": [],
   "source": [
    "# Input file names\n",
    "site_name = 'MCS'\n",
    "dem_date = '20240420'\n",
    "data_path = f'/Users/rdcrlrka/Research/PhD/study-sites/{site_name}/{dem_date}'\n",
    "ortho_fn = os.path.join(data_path, f'{site_name}_{dem_date}_orthomosaic.tif')\n",
    "dem_fn = os.path.join(data_path, f'{site_name}_{dem_date}_DEM.tif')\n",
    "nmad_fn = os.path.join(data_path, f'{site_name}_{dem_date}_nmad_mos.tif')\n",
    "\n",
    "# Masked DEM (output) file name\n",
    "dem_masked_fn = dem_fn.replace('.tif', '_masked.tif')\n",
    "\n",
    "for fn in [dem_fn, nmad_fn, ortho_fn]:\n",
    "    if not os.path.exists(fn):\n",
    "        print('File does not exist, check name:', fn)"
   ]
  },
  {
   "cell_type": "markdown",
   "id": "49085a86-fd68-4d49-bf6b-a4d25d030dcd",
   "metadata": {},
   "source": [
    "## Load DEM, NMAD, and orthomosaic"
   ]
  },
  {
   "cell_type": "code",
   "execution_count": null,
   "id": "6ae25691-1da9-46e1-9b7b-56185e246fad",
   "metadata": {},
   "outputs": [],
   "source": [
    "# Load files\n",
    "ortho = rxr.open_rasterio(ortho_fn)\n",
    "ortho = xr.where(ortho==ortho._FillValue, np.nan, ortho)\n",
    "dem = rxr.open_rasterio(dem_fn)\n",
    "dem = xr.where(dem==dem._FillValue, np.nan, dem)\n",
    "nmad = rxr.open_rasterio(nmad_fn)\n",
    "nmad = xr.where(nmad==nmad._FillValue, np.nan, nmad)\n",
    "\n",
    "# Plot\n",
    "cbar_shrink = 0.7\n",
    "fig, ax = plt.subplots(2, 2, figsize=(10,10))\n",
    "ax = ax.flatten()\n",
    "ortho_im = ax[0].imshow(ortho.data[0], cmap='Greys_r', \n",
    "             extent=(np.min(ortho.x.data)/1e3, np.max(ortho.x.data)/1e3, \n",
    "                     np.min(ortho.y.data)/1e3, np.max(ortho.y.data)/1e3))\n",
    "fig.colorbar(ortho_im, ax=ax[0], shrink=cbar_shrink, label='Reflectance')\n",
    "dem_im = ax[1].imshow(dem.data[0], cmap='terrain', \n",
    "                      extent=(np.min(dem.x.data)/1e3, np.max(dem.x.data)/1e3, \n",
    "                              np.min(dem.y.data)/1e3, np.max(dem.y.data)/1e3))\n",
    "fig.colorbar(dem_im, ax=ax[1], shrink=cbar_shrink, label='Elevation [m]')\n",
    "nmad_im = ax[2].imshow(nmad.data[0], cmap='Reds', \n",
    "                       extent=(np.min(nmad.x.data)/1e3, np.max(nmad.x.data)/1e3, \n",
    "                               np.min(nmad.y.data)/1e3, np.max(nmad.y.data)/1e3))\n",
    "fig.colorbar(nmad_im, ax=ax[2], shrink=cbar_shrink, label='NMAD [m]')\n",
    "ax[3].hist(np.ravel(nmad.data), bins=100)\n",
    "ax[3].set_title('NMAD [m]')\n",
    "\n",
    "plt.show()"
   ]
  },
  {
   "cell_type": "markdown",
   "id": "36389985-61f7-42ae-a3a3-1d5716b00ff3",
   "metadata": {},
   "source": [
    "## Test some methods for automatically setting an NMAD threshold"
   ]
  },
  {
   "cell_type": "code",
   "execution_count": null,
   "id": "8cffafee-cebc-4d48-af74-e0302f2d3efa",
   "metadata": {},
   "outputs": [],
   "source": [
    "# Interpolate DEM to NMAD coordinates\n",
    "dem_interp = dem.interp(x=nmad.x, y=nmad.y, method='nearest')\n",
    "plt.imshow(dem_interp.data[0])\n",
    "\n",
    "cmap = LinearSegmentedColormap.from_list(\"Custom\", ['w','#67000d'])\n",
    "\n",
    "# Define thresholds\n",
    "thresholds = [[1.5 * iqr(np.ravel(nmad.data), nan_policy='omit'), '1.5 x IQR(NMAD)'],\n",
    "              [np.nanpercentile(np.ravel(nmad.data), 95), 'P$_{95}$(NMAD)'],\n",
    "              [np.nanpercentile(np.ravel(nmad.data), 99), 'P$_{99}$(NMAD)'],\n",
    "              [5, 'value'],\n",
    "              [10, 'value'],\n",
    "              [20, 'value']\n",
    "             ]\n",
    "                   \n",
    "# Iterate over thresholds\n",
    "for thresh, thresh_name in thresholds:\n",
    "    mask = xr.where(nmad >= thresh, 1, 0)\n",
    "    dem_interp_masked = xr.where(mask == 1, np.nan, dem_interp)\n",
    "    # plot\n",
    "    fig, ax = plt.subplots(1, 2, figsize=(12,5))\n",
    "    # ax[0].imshow(mask.data[0], cmap=cmap, clim=(0,1))\n",
    "    ax[0].imshow(nmad.data[0], cmap=cmap, clim=(0,thresh))\n",
    "    ax[1].imshow(dem_interp_masked.data[0])\n",
    "    fig.suptitle(f\"Mask NMAD >= {thresh_name} ({np.round(thresh, 2)})\")\n",
    "    plt.show()\n"
   ]
  },
  {
   "cell_type": "code",
   "execution_count": null,
   "id": "4eec1c1d-6883-4ef1-96f3-f13d99c6f66b",
   "metadata": {},
   "outputs": [],
   "source": []
  }
 ],
 "metadata": {
  "kernelspec": {
   "display_name": "snow-dems",
   "language": "python",
   "name": "snow-dems"
  },
  "language_info": {
   "codemirror_mode": {
    "name": "ipython",
    "version": 3
   },
   "file_extension": ".py",
   "mimetype": "text/x-python",
   "name": "python",
   "nbconvert_exporter": "python",
   "pygments_lexer": "ipython3",
   "version": "3.11.8"
  }
 },
 "nbformat": 4,
 "nbformat_minor": 5
}
