{
 "cells": [
  {
   "cell_type": "markdown",
   "id": "3171e89d-d7b8-498c-8e2a-3512418e69e6",
   "metadata": {},
   "source": [
    "# SkySat-snow pipeline"
   ]
  },
  {
   "cell_type": "markdown",
   "id": "e6fcef54",
   "metadata": {},
   "source": [
    "## Define settings and paths in directory"
   ]
  },
  {
   "cell_type": "code",
   "execution_count": 2,
   "id": "11a95d54-3dcf-4c4c-8d8f-002c37cbd937",
   "metadata": {},
   "outputs": [],
   "source": [
    "import os\n",
    "import sys\n",
    "\n",
    "# Define paths in directory\n",
    "site_name = \"Banner\"\n",
    "date = \"20240419-1\"\n",
    "code_dir = '/Users/raineyaberle/Research/PhD/SnowDEMs/skysat-snow'\n",
    "asp_dir = '/Users/raineyaberle/Research/PhD/SnowDEMs/StereoPipeline-3.5.0-alpha-2024-10-05-x86_64-OSX/bin'\n",
    "ref_dem_fn = f'/Volumes/LaCie/raineyaberle/Research/PhD/Skysat-Stereo/study-sites/{site_name}/refdem/{site_name}_REFDEM_WGS84.tif'\n",
    "pc_fn = f'/Volumes/LaCie/raineyaberle/Research/PhD/Skysat-Stereo/study-sites/{site_name}/{date}/{site_name}_{date}_pc_merged.laz'\n",
    "roads_fn = '/Volumes/LaCie/raineyaberle/Research/PhD/Skysat-Stereo/ITD_Functional_Class/ITD_HWY_21.shp'\n",
    "multispec_dir = f'/Volumes/LaCie/raineyaberle/Research/PhD/SkySat-Stereo/study-sites/{site_name}/{date}/{site_name}_{date}_4band_mosaic.tif'\n",
    "out_dir = f'/Volumes/LaCie/raineyaberle/Research/PhD/Skysat-Stereo/study-sites/{site_name}/{date}'\n",
    "res = 2 # spatial resolution of outputs [m]\n",
    "roads_buffer = 5 # buffer for roads geospatial file [m]\n",
    "\n",
    "# Check that input files and directories exist\n",
    "if not os.path.exists(ref_dem_fn):\n",
    "    print('Reference DEM file not found, please correct ref_dem_fn before continuing.')\n",
    "if not os.path.exists(pc_fn):\n",
    "    print('Point cloud file not found, please correct pc_fn before continuing.')\n",
    "if not os.path.exists(roads_fn):\n",
    "    print('Roads geospatial file not found, please correct roads_fn before continuing.')\n",
    "if not os.path.exists(multispec_dir):\n",
    "    print('Multispectral images folder not found, please correct multispec_dir before continuing.')\n",
    "if not os.path.exists(asp_dir):\n",
    "    print('Path to ASP not found, please correct asp_dir before continuing.')\n",
    "out_dir = os.path.join(out_dir, 'skysat_snow')\n",
    "if not os.path.exists(out_dir):\n",
    "    os.mkdir(out_dir)\n",
    "    print('Made directory for outputs:', out_dir)\n",
    "\n",
    "# Make results directories\n",
    "preprocess_dir = os.path.join(out_dir, 'preprocess')\n",
    "masks_dir = os.path.join(out_dir, 'land_cover_masks')\n",
    "corr_coreg_diff_dir = os.path.join(out_dir, 'corr_coreg_diff')\n",
    "analysis_dir = os.path.join(out_dir, 'ddem_analysis')\n",
    "for folder in [preprocess_dir, masks_dir, corr_coreg_diff_dir, analysis_dir]:\n",
    "    if not os.path.exists(folder):\n",
    "        os.mkdir(folder)\n",
    "\n",
    "# Add path to pipeline utilities\n",
    "sys.path.append(os.path.join(code_dir, 'scripts'))\n",
    "import pipeline_utils as f"
   ]
  },
  {
   "cell_type": "markdown",
   "id": "2a572de4",
   "metadata": {},
   "source": [
    "## Run pipeline"
   ]
  },
  {
   "cell_type": "code",
   "execution_count": null,
   "id": "ed6a1757",
   "metadata": {},
   "outputs": [],
   "source": [
    "##### 1. PREPROCESS THE POINT CLOUDS #####\n",
    "print('\\n1. PREPROCESS THE POINT CLOUDS')\n",
    "# Merge and filter point clouds\n",
    "pc_filtered_las_fn, pc_filtered_tif_fn = f.preprocess_point_clouds(pc_fn, ref_dem_fn, res, preprocess_dir)\n",
    "# Mosaic 4-band SR imagery, preprocess roads and reference DEM\n",
    "multispec_mosaic_fn, roads_adj_fn, ref_dem_adj_fn = f.preprocess_multispec_refdem_roads(multispec_dir, ref_dem_fn, roads_fn, roads_buffer, res, out_dir)\n",
    "\n",
    "\n",
    "##### 2. CONSTRUCT LAND COVER MASKS #####\n",
    "print('\\n2. CONSTRUCT LAND COVER MASKS')\n",
    "multispec_mosaic_fn, trees_mask_fn, snow_mask_fn, roads_mask_fn, ss_mask_fn = f.construct_land_cover_masks(multispec_mosaic_fn, \n",
    "                                                                                                           roads_adj_fn, \n",
    "                                                                                                           masks_dir, \n",
    "                                                                                                           roads_buffer,\n",
    "                                                                                                           ndvi_threshold=0.1,\n",
    "                                                                                                           ndsi_threshold=0.0)\n",
    "\n",
    "\n",
    "##### 3. CORRECT, COREGISTER, AND DIFFERENCE DEM #####\n",
    "print('\\n3. CORRECT, COREGISTER, AND DIFFERENCE DEM')\n",
    "final_dem_fn, final_ddem_fn = f.correct_coregister_difference(pc_filtered_tif_fn, ref_dem_adj_fn, ss_mask_fn, roads_mask_fn, corr_coreg_diff_dir, plot_results=True)\n",
    "\n",
    "\n",
    "##### 4. PLOT FINAL DEM AND dDEM #####\n",
    "print('\\n4. PLOT THE FINAL DEM AND dDEM')\n",
    "f.plot_dem_ddem(final_dem_fn, final_ddem_fn, roads_mask_fn, os.path.join(out_dir, 'final_dem_ddem.png'), vmin=-5, vmax=5)\n",
    "\n",
    "\n",
    "##### 5. ANALYZE dDEM #####\n",
    "print('\\n5. ANALYZE dDEM VS. LAND COVER TYPE AND TERRAIN PARAMETERS')\n",
    "f.analyze_ddem(final_ddem_fn, ref_dem_adj_fn, roads_mask_fn, snow_mask_fn, ss_mask_fn, trees_mask_fn, analysis_dir)\n"
   ]
  },
  {
   "cell_type": "markdown",
   "id": "9797640e",
   "metadata": {},
   "source": [
    "## Apply terrain correction"
   ]
  },
  {
   "cell_type": "code",
   "execution_count": null,
   "id": "0bc66e88",
   "metadata": {},
   "outputs": [],
   "source": [
    "# import xdem\n",
    "# import matplotlib.pyplot as plt\n",
    "# import geoutils as gu\n",
    "\n",
    "# print('Loading input files...')\n",
    "# dem = xdem.DEM(final_dem_fn)\n",
    "# ref_dem = xdem.DEM(ref_dem_adj_fn)\n",
    "# ref_dem = ref_dem.reproject(dem)\n",
    "# ss_mask = gu.Raster(ss_mask_fn, load_data=True)\n",
    "# ss_mask = ss_mask.reproject(dem)\n",
    "# ss_mask = (ss_mask==1)\n",
    "\n",
    "# # Test several terrain variables\n",
    "# terrain_vars = ['elevation', 'slope', 'aspect', 'maximum_curvature']\n",
    "# for terrain_var in terrain_vars:\n",
    "#     print(terrain_var)\n",
    "#     terrain_bias = xdem.coreg.TerrainBias(terrain_var).fit(ref_dem, dem, ss_mask)\n",
    "#     dem_corrected = terrain_bias.apply(dem)\n",
    "#     ddem_before = dem - ref_dem\n",
    "#     ddem_after = dem_corrected - ref_dem\n",
    "#     fig, ax = plt.subplots(1, 2, figsize=(12,6))\n",
    "#     ddem_before.plot(cmap='coolwarm_r', vmin=-5, vmax=5, ax=ax[0])\n",
    "#     ax[0].set_title('dDEM')\n",
    "#     ddem_after.plot(cmap='coolwarm_r', vmin=-5, vmax=5, ax=ax[1])\n",
    "#     ax[1].set_title('Corrected dDEM')\n",
    "#     plt.suptitle(terrain_var)\n",
    "#     plt.show()"
   ]
  },
  {
   "cell_type": "markdown",
   "id": "2ef04653",
   "metadata": {},
   "source": [
    "## Try correcting for directional bias"
   ]
  },
  {
   "cell_type": "code",
   "execution_count": null,
   "id": "e5e81070",
   "metadata": {},
   "outputs": [],
   "source": [
    "# import numpy as np\n",
    "\n",
    "# for angle in np.linspace(0, 360, 5)[0:-1]:\n",
    "#     dir_bias = xdem.coreg.DirectionalBias(angle=angle).fit(ref_dem, dem, ss_mask)\n",
    "#     dem_corrected = dir_bias.apply(dem)\n",
    "#     ddem = dem_corrected - ref_dem\n",
    "#     fig, ax = plt.subplots(1, 1, figsize=(6,6))\n",
    "#     ddem.plot(cmap='coolwarm_r', vmin=-5, vmax=5, ax=ax)\n",
    "#     ax.set_title(angle)\n",
    "#     plt.show()"
   ]
  },
  {
   "cell_type": "code",
   "execution_count": null,
   "id": "8c316858",
   "metadata": {},
   "outputs": [],
   "source": [
    "# deramp = xdem.coreg.Deramp().fit(ref_dem, dem, ss_mask)\n",
    "# dem_corrected = deramp.apply(dem)\n",
    "\n",
    "# ddem = dem_corrected - ref_dem\n",
    "\n",
    "# # roads_mask = gu.Raster(roads_mask_fn)\n",
    "# # roads_mask = roads_mask.reproject(dem)\n",
    "# # roads_mask = (roads_mask==1)\n",
    "# # ddem_roads = ddem[roads_mask]\n",
    "# # ddem_roads_med = np.nanmedian(ddem_roads.data)\n",
    "# # print(ddem_roads_med)\n",
    "\n",
    "# # ddem -= ddem_roads_med\n",
    "\n",
    "# ddem_ss = ddem[ss_mask]\n",
    "# ddem_ss_med = np.nanmedian(ddem_ss.data)\n",
    "# print(ddem_ss_med)\n",
    "\n",
    "# ddem.plot(cmap='coolwarm_r', vmin=-5, vmax=5)\n",
    "# plt.show()"
   ]
  },
  {
   "cell_type": "code",
   "execution_count": null,
   "id": "09dff346",
   "metadata": {},
   "outputs": [],
   "source": []
  }
 ],
 "metadata": {
  "kernelspec": {
   "display_name": "skysat_snow_env",
   "language": "python",
   "name": "python3"
  },
  "language_info": {
   "codemirror_mode": {
    "name": "ipython",
    "version": 3
   },
   "file_extension": ".py",
   "mimetype": "text/x-python",
   "name": "python",
   "nbconvert_exporter": "python",
   "pygments_lexer": "ipython3",
   "version": "3.11.10"
  }
 },
 "nbformat": 4,
 "nbformat_minor": 5
}
