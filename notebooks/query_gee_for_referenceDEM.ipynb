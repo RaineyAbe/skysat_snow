{
 "cells": [
  {
   "cell_type": "markdown",
   "id": "9fb7a339-be26-4f3d-b899-de0b9df80f1f",
   "metadata": {},
   "source": [
    "# Query Google Earth Engine (GEE) for reference DEM for the `skysat_triplet_pipeline`"
   ]
  },
  {
   "cell_type": "code",
   "execution_count": 2,
   "id": "482473c0-6260-425b-bc28-e9527a7e4b43",
   "metadata": {},
   "outputs": [],
   "source": [
    "import os\n",
    "import glob\n",
    "import ee\n",
    "import sys"
   ]
  },
  {
   "cell_type": "markdown",
   "id": "f283e218-d319-4fe4-a0ec-756ca4b4b808",
   "metadata": {},
   "source": [
    "## Define input and output files"
   ]
  },
  {
   "cell_type": "code",
   "execution_count": null,
   "id": "b3da9aa8-5f2a-41a3-8ee9-92805447c1fe",
   "metadata": {},
   "outputs": [],
   "source": [
    "buffer = 30e3 # [m] how much to buffer the AOI before clipping DEM \n",
    "\n",
    "site_name = 'Variegated'\n",
    "im_path = f'/Volumes/LaCie/raineyaberle/Research/PhD/SkySat-Stereo/study-sites/{site_name}/20240419/SkySatScene/'\n",
    "dem_path = f'/Volumes/LaCie/raineyaberle/Research/PhD/SkySat-Stereo/study-sites/{site_name}/refdem/'\n",
    "code_path = '/Users/raineyaberle/Research/PhD/SnowDEMs/skysat-snow'\n",
    "\n",
    "# Import utility functions\n",
    "sys.path.append(os.path.join(code_path, 'scripts'))\n",
    "import query_refdem_utils as f\n"
   ]
  },
  {
   "cell_type": "markdown",
   "id": "2ebab79e-b370-4814-b2d0-525e0cb8c7a3",
   "metadata": {},
   "source": [
    "## Calculate image bounds and buffer"
   ]
  },
  {
   "cell_type": "code",
   "execution_count": null,
   "id": "47deef48-5df9-4131-8718-547d63255500",
   "metadata": {},
   "outputs": [],
   "source": [
    "# Load metadata file names\n",
    "meta_fns = sorted(glob.glob(os.path.join(im_path, '*_metadata.json')))\n",
    "\n",
    "# Create clipping region\n",
    "bbox, epsg_utm = f.create_bbox_from_meta(meta_fns, buffer)\n"
   ]
  },
  {
   "cell_type": "markdown",
   "id": "1289ed33-bdc2-4439-9235-96138dadfd09",
   "metadata": {},
   "source": [
    "## Initialize GEE"
   ]
  },
  {
   "cell_type": "code",
   "execution_count": 7,
   "id": "0f4f6fee-7414-442b-be97-7321d9da1785",
   "metadata": {},
   "outputs": [],
   "source": [
    "try:\n",
    "    ee.Initialize()\n",
    "except:\n",
    "    ee.Authenticate()\n",
    "    ee.Intialize()"
   ]
  },
  {
   "cell_type": "markdown",
   "id": "9cc62ec6-7a20-40f2-a780-f567768fc41e",
   "metadata": {},
   "source": [
    "## Query GEE for DEM, clip, save to file"
   ]
  },
  {
   "cell_type": "code",
   "execution_count": null,
   "id": "0b849e4d-98a2-4283-9049-ebd832eb165c",
   "metadata": {},
   "outputs": [],
   "source": [
    "# Make sure output directory exists\n",
    "if not os.path.exists(dem_path):\n",
    "    os.mkdir(dem_path)\n",
    "    print('Made directory for output file:', dem_path)\n",
    "# Define output file name\n",
    "dem_fn = os.path.join(dem_path, f\"{site_name}_ArcticDEM_buffer{int(buffer/1e3)}km.tif\")\n",
    "# Query and download DEM\n",
    "dem_ds = f.query_gee_for_arcticdem(bbox, out_fn=dem_fn, crs=epsg_utm)"
   ]
  },
  {
   "cell_type": "code",
   "execution_count": null,
   "id": "b5359026",
   "metadata": {},
   "outputs": [],
   "source": []
  }
 ],
 "metadata": {
  "kernelspec": {
   "display_name": "skysat_snow_env",
   "language": "python",
   "name": "python3"
  },
  "language_info": {
   "codemirror_mode": {
    "name": "ipython",
    "version": 3
   },
   "file_extension": ".py",
   "mimetype": "text/x-python",
   "name": "python",
   "nbconvert_exporter": "python",
   "pygments_lexer": "ipython3",
   "version": "3.11.10"
  }
 },
 "nbformat": 4,
 "nbformat_minor": 5
}
