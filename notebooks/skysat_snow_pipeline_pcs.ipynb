{
 "cells": [
  {
   "cell_type": "markdown",
   "id": "3171e89d-d7b8-498c-8e2a-3512418e69e6",
   "metadata": {},
   "source": [
    "# SkySat-snow pipeline"
   ]
  },
  {
   "cell_type": "code",
   "execution_count": 1,
   "id": "11a95d54-3dcf-4c4c-8d8f-002c37cbd937",
   "metadata": {},
   "outputs": [],
   "source": [
    "import os\n",
    "import sys\n",
    "\n",
    "# Define paths in directory\n",
    "code_dir = '/Users/raineyaberle/Research/PhD/SnowDEMs/skysat-snow'\n",
    "ref_dem_fn = '/Volumes/LaCie/raineyaberle/Research/PhD/Skysat-Stereo/study-sites/Banner/refdem/Banner_Bare_Earth_DEMs_mosaic_UTM11WGS84.tif'\n",
    "pc_fn = '/Volumes/LaCie/raineyaberle/Research/PhD/Skysat-Stereo/study-sites/Banner/20240419-1/Banner_20240419-1_pc_merged.laz'\n",
    "roads_fn = '/Volumes/LaCie/raineyaberle/Research/PhD/Skysat-Stereo/study-sites/Banner/roads/Banner_roads_line.shp'\n",
    "multispec_dir = '/Volumes/LaCie/raineyaberle/Research/PhD/SkySat-Stereo/study-sites/Banner/20240419-1/Banner_20240419-1_4band_mosaic.tif'\n",
    "asp_dir = '/Users/raineyaberle/Research/PhD/SnowDEMs/StereoPipeline-3.5.0-alpha-2024-10-05-x86_64-OSX/bin'\n",
    "out_dir = '/Volumes/LaCie/raineyaberle/Research/PhD/Skysat-Stereo/study-sites/Banner/20240419-1'\n",
    "res = 2 # spatial resolution of outputs [m]\n",
    "roads_buffer = 5 # buffer for roads geospatial file [m]\n",
    "\n",
    "# Check that input files and directories exist\n",
    "if not os.path.exists(ref_dem_fn):\n",
    "    print('Reference DEM file not found, please correct ref_dem_fn before continuing.')\n",
    "if not os.path.exists(pc_fn):\n",
    "    print('Point cloud file not found, please correct pc_fn before continuing.')\n",
    "if not os.path.exists(roads_fn):\n",
    "    print('Roads geospatial file not found, please correct roads_fn before continuing.')\n",
    "if not os.path.exists(multispec_dir):\n",
    "    print('Multispectral images folder not found, please correct multispec_dir before continuing.')\n",
    "if not os.path.exists(asp_dir):\n",
    "    print('Path to ASP not found, please correct asp_dir before continuing.')\n",
    "out_dir = os.path.join(out_dir, 'skysat_snow')\n",
    "if not os.path.exists(out_dir):\n",
    "    os.mkdir(out_dir)\n",
    "    print('Made directory for outputs:', out_dir)\n",
    "\n",
    "# Make results directories\n",
    "preprocess_dir = os.path.join(out_dir, 'preprocess')\n",
    "masks_dir = os.path.join(out_dir, 'land_cover_masks')\n",
    "deramp_dir = os.path.join(out_dir, 'deramp')\n",
    "pc_align_dir = os.path.join(out_dir, 'pc_align')\n",
    "pc_transform_dir = os.path.join(out_dir, 'pc_transform')\n",
    "final_align_dir = os.path.join(out_dir, 'final_align')\n",
    "for folder in [preprocess_dir, masks_dir, deramp_dir, pc_align_dir, pc_transform_dir, final_align_dir]:\n",
    "    if not os.path.exists(folder):\n",
    "        os.mkdir(folder)\n",
    "\n",
    "# Add path to pipeline utilities\n",
    "sys.path.append(os.path.join(code_dir, 'skysat-snow'))\n",
    "import pipeline_utils_pc as f"
   ]
  },
  {
   "cell_type": "markdown",
   "id": "8631ea2a",
   "metadata": {},
   "source": [
    "## 1. Preprocessing"
   ]
  },
  {
   "cell_type": "code",
   "execution_count": null,
   "id": "dc1e662d",
   "metadata": {},
   "outputs": [],
   "source": [
    "# Merge and filter point clouds\n",
    "pc_filtered_las_fn, pc_filtered_tif_fn = f.preprocess_point_clouds(pc_fn, ref_dem_fn, res, preprocess_dir)\n",
    "\n",
    "# Mosaic 4-band SR imagery, preprocess roads and reference DEM\n",
    "multispec_mosaic_fn, roads_adj_fn, ref_dem_adj_fn = f.preprocess_multispec_refdem_roads(multispec_dir, ref_dem_fn, roads_fn, roads_buffer, res, out_dir)\n"
   ]
  },
  {
   "cell_type": "markdown",
   "id": "afd65a05",
   "metadata": {},
   "source": [
    "## 2. Construct land cover masks"
   ]
  },
  {
   "cell_type": "code",
   "execution_count": null,
   "id": "7d1cafcd",
   "metadata": {},
   "outputs": [],
   "source": [
    "multispec_mosaic_fn, trees_mask_fn, snow_mask_fn, roads_mask_fn, ss_mask_fn = f.construct_land_cover_masks(multispec_mosaic_fn, \n",
    "                                                                                                           roads_adj_fn, \n",
    "                                                                                                           masks_dir, \n",
    "                                                                                                           roads_buffer,\n",
    "                                                                                                           ndvi_threshold=0.2,\n",
    "                                                                                                           ndsi_threshold=0.0)"
   ]
  },
  {
   "cell_type": "markdown",
   "id": "81491849",
   "metadata": {},
   "source": [
    "## 3. Deramp the DEM raster and point cloud"
   ]
  },
  {
   "cell_type": "code",
   "execution_count": null,
   "id": "da11d90d",
   "metadata": {},
   "outputs": [],
   "source": [
    "pc_deramped_fn = f.deramp(ref_dem_fn, pc_filtered_tif_fn, pc_filtered_las_fn, deramp_dir, vmin=-10, vmax=10)"
   ]
  },
  {
   "cell_type": "markdown",
   "id": "5c0f2860",
   "metadata": {},
   "source": [
    "## 4. Align and transform the point cloud"
   ]
  },
  {
   "cell_type": "code",
   "execution_count": null,
   "id": "291fc3c9",
   "metadata": {},
   "outputs": [],
   "source": [
    "dem_aligned_fn = f.align_transform_pc(asp_dir, pc_deramped_fn, ref_dem_adj_fn, res, pc_align_dir, pc_transform_dir)"
   ]
  },
  {
   "cell_type": "markdown",
   "id": "f6cb4ac2",
   "metadata": {},
   "source": [
    "## 5. Final raster alignment: sub-pixel coregistration and vertical adjustment using stable surfaces"
   ]
  },
  {
   "cell_type": "code",
   "execution_count": null,
   "id": "39a51dad",
   "metadata": {},
   "outputs": [],
   "source": [
    "final_dem_fn, final_ddem_fn = f.raster_adjustments(ref_dem_adj_fn, dem_aligned_fn, ss_mask_fn, res, final_align_dir, vmin=-10, vmax=10)"
   ]
  },
  {
   "cell_type": "markdown",
   "id": "9dfebf5e",
   "metadata": {},
   "source": [
    "## 6. Adjust and plot final DEM and dDEM"
   ]
  },
  {
   "cell_type": "code",
   "execution_count": null,
   "id": "5d49fbe2",
   "metadata": {},
   "outputs": [],
   "source": [
    "f.plot_dem_ddem(final_dem_fn, final_ddem_fn, ss_mask_fn, os.path.join(out_dir, 'final_dem_ddem.png'), vmin=-5, vmax=5)"
   ]
  },
  {
   "cell_type": "code",
   "execution_count": null,
   "id": "dc476ead",
   "metadata": {},
   "outputs": [],
   "source": []
  }
 ],
 "metadata": {
  "kernelspec": {
   "display_name": "skysat_snow_env",
   "language": "python",
   "name": "python3"
  },
  "language_info": {
   "codemirror_mode": {
    "name": "ipython",
    "version": 3
   },
   "file_extension": ".py",
   "mimetype": "text/x-python",
   "name": "python",
   "nbconvert_exporter": "python",
   "pygments_lexer": "ipython3",
   "version": "3.11.10"
  }
 },
 "nbformat": 4,
 "nbformat_minor": 5
}
