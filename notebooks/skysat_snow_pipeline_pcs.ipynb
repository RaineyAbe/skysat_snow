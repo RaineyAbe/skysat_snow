{
 "cells": [
  {
   "cell_type": "markdown",
   "id": "3171e89d-d7b8-498c-8e2a-3512418e69e6",
   "metadata": {},
   "source": [
    "# SkySat-snow pipeline"
   ]
  },
  {
   "cell_type": "code",
   "execution_count": 1,
   "id": "11a95d54-3dcf-4c4c-8d8f-002c37cbd937",
   "metadata": {},
   "outputs": [],
   "source": [
    "import os\n",
    "import sys\n",
    "\n",
    "# Define paths in directory\n",
    "code_dir = '/Users/raineyaberle/Research/PhD/SnowDEMs/skysat-snow'\n",
    "ref_dem_fn = '/Volumes/LaCie/raineyaberle/Research/PhD/Skysat-Stereo/study-sites/MCS/refdem/MCS_REFDEM_WGS84.tif'\n",
    "pc_fn = '/Volumes/LaCie/raineyaberle/Research/PhD/Skysat-Stereo/study-sites/MCS/20240420/MCS_20240420_pc_merged.laz'\n",
    "roads_fn = '/Volumes/LaCie/raineyaberle/Research/PhD/Skysat-Stereo/study-sites/MCS/roads/MCS_roads_line_merged_UTM11N.shp'\n",
    "multispec_dir = '/Volumes/LaCie/raineyaberle/Research/PhD/SkySat-Stereo/study-sites/MCS/20240420/MCS_20240420_4band_mosaic.tif'\n",
    "asp_dir = '/Users/raineyaberle/Research/PhD/SnowDEMs/StereoPipeline-3.5.0-alpha-2024-10-05-x86_64-OSX/bin'\n",
    "out_dir = '/Volumes/LaCie/raineyaberle/Research/PhD/Skysat-Stereo/study-sites/MCS/20240420'\n",
    "res = 2 # spatial resolution of outputs [m]\n",
    "roads_buffer = 5 # buffer for roads geospatial file [m]\n",
    "\n",
    "# Check that input files and directories exist\n",
    "if not os.path.exists(ref_dem_fn):\n",
    "    print('Reference DEM file not found, please correct ref_dem_fn before continuing.')\n",
    "if not os.path.exists(pc_fn):\n",
    "    print('Point cloud file not found, please correct pc_fn before continuing.')\n",
    "if not os.path.exists(roads_fn):\n",
    "    print('Roads geospatial file not found, please correct roads_fn before continuing.')\n",
    "if not os.path.exists(multispec_dir):\n",
    "    print('Multispectral images folder not found, please correct multispec_dir before continuing.')\n",
    "if not os.path.exists(asp_dir):\n",
    "    print('Path to ASP not found, please correct asp_dir before continuing.')\n",
    "out_dir = os.path.join(out_dir, 'skysat_snow')\n",
    "if not os.path.exists(out_dir):\n",
    "    os.mkdir(out_dir)\n",
    "    print('Made directory for outputs:', out_dir)\n",
    "\n",
    "# Make results directories\n",
    "preprocess_dir = os.path.join(out_dir, 'preprocess')\n",
    "masks_dir = os.path.join(out_dir, 'land_cover_masks')\n",
    "deramp_dir = os.path.join(out_dir, 'deramp')\n",
    "pc_align_dir = os.path.join(out_dir, 'pc_align')\n",
    "pc_transform_dir = os.path.join(out_dir, 'pc_transform')\n",
    "final_align_dir = os.path.join(out_dir, 'final_align')\n",
    "for folder in [preprocess_dir, masks_dir, deramp_dir, pc_align_dir, pc_transform_dir, final_align_dir]:\n",
    "    if not os.path.exists(folder):\n",
    "        os.mkdir(folder)\n",
    "\n",
    "# Add path to pipeline utilities\n",
    "sys.path.append(os.path.join(code_dir, 'scripts'))\n",
    "import pipeline_utils_pc as f"
   ]
  },
  {
   "cell_type": "code",
   "execution_count": null,
   "id": "ed6a1757",
   "metadata": {},
   "outputs": [],
   "source": [
    "##### 1. PREPROCESSING #####\n",
    "# Merge and filter point clouds\n",
    "pc_filtered_las_fn, pc_filtered_tif_fn = f.preprocess_point_clouds(pc_fn, ref_dem_fn, res, preprocess_dir)\n",
    "# Mosaic 4-band SR imagery, preprocess roads and reference DEM\n",
    "multispec_mosaic_fn, roads_adj_fn, ref_dem_adj_fn = f.preprocess_multispec_refdem_roads(multispec_dir, ref_dem_fn, roads_fn, roads_buffer, res, out_dir)\n",
    "\n",
    "\n",
    "##### 2. CONSTRUCT LAND COVER MASKS #####\n",
    "multispec_mosaic_fn, trees_mask_fn, snow_mask_fn, roads_mask_fn, ss_mask_fn = f.construct_land_cover_masks(multispec_mosaic_fn, \n",
    "                                                                                                           roads_adj_fn, \n",
    "                                                                                                           masks_dir, \n",
    "                                                                                                           roads_buffer,\n",
    "                                                                                                           ndvi_threshold=0.2,\n",
    "                                                                                                           ndsi_threshold=0.0)\n",
    "\n",
    "\n",
    "##### 3. DERAMP THE DEM ########\n",
    "pc_deramped_fn = f.deramp(ref_dem_fn, pc_filtered_tif_fn, pc_filtered_las_fn, deramp_dir, vmin=-10, vmax=10)\n",
    "\n",
    "\n",
    "##### 4. ALIGN AND TRANFORM THE DEM #####\n",
    "dem_aligned_fn = f.align_transform_pc(asp_dir, pc_deramped_fn, ref_dem_fn, roads_mask_fn, res, pc_align_dir, pc_transform_dir)\n",
    "\n",
    "\n",
    "##### 5. FINAL RASTER ALIGNMENT #####\n",
    "final_dem_fn, final_ddem_fn = f.raster_adjustments(ref_dem_adj_fn, dem_aligned_fn, ss_mask_fn, res, final_align_dir, vmin=-10, vmax=10)\n",
    "\n",
    "\n",
    "##### 6. PLOT FINAL DEM AND DDEM #####\n",
    "f.plot_dem_ddem(final_dem_fn, final_ddem_fn, roads_mask_fn, os.path.join(out_dir, 'final_dem_ddem.png'), vmin=-5, vmax=5)"
   ]
  },
  {
   "cell_type": "markdown",
   "id": "9797640e",
   "metadata": {},
   "source": [
    "## Apply terrain correction"
   ]
  },
  {
   "cell_type": "code",
   "execution_count": null,
   "id": "0bc66e88",
   "metadata": {},
   "outputs": [],
   "source": [
    "import xdem\n",
    "import matplotlib.pyplot as plt\n",
    "import geoutils as gu\n",
    "\n",
    "print('Loading input files...')\n",
    "dem = xdem.DEM(final_dem_fn)\n",
    "ref_dem = xdem.DEM(ref_dem_adj_fn)\n",
    "ref_dem = ref_dem.reproject(dem)\n",
    "ss_mask = gu.Raster(ss_mask_fn, load_data=True)\n",
    "ss_mask = ss_mask.reproject(dem)\n",
    "ss_mask = (ss_mask==1)\n",
    "\n",
    "# Test several terrain variables\n",
    "terrain_vars = ['elevation', 'slope', 'aspect', 'maximum_curvature']\n",
    "for terrain_var in terrain_vars:\n",
    "    print(terrain_var)\n",
    "    terrain_bias = xdem.coreg.TerrainBias(terrain_var).fit(ref_dem, dem, ss_mask)\n",
    "    dem_corrected = terrain_bias.apply(dem)\n",
    "    ddem_before = dem - ref_dem\n",
    "    ddem_after = dem_corrected - ref_dem\n",
    "    fig, ax = plt.subplots(1, 2, figsize=(12,6))\n",
    "    ddem_before.plot(cmap='coolwarm_r', vmin=-5, vmax=5, ax=ax[0])\n",
    "    ax[0].set_title('dDEM')\n",
    "    ddem_after.plot(cmap='coolwarm_r', vmin=-5, vmax=5, ax=ax[1])\n",
    "    ax[1].set_title('Corrected dDEM')\n",
    "    plt.suptitle(terrain_var)\n",
    "    plt.show()"
   ]
  },
  {
   "cell_type": "markdown",
   "id": "2ef04653",
   "metadata": {},
   "source": [
    "## Try directional bias"
   ]
  },
  {
   "cell_type": "code",
   "execution_count": null,
   "id": "e5e81070",
   "metadata": {},
   "outputs": [],
   "source": [
    "import numpy as np\n",
    "\n",
    "for angle in np.linspace(0, 360, 5)[0:-1]:\n",
    "    dir_bias = xdem.coreg.DirectionalBias(angle=angle).fit(ref_dem, dem, ss_mask)\n",
    "    dem_corrected = dir_bias.apply(dem)\n",
    "    ddem = dem_corrected - ref_dem\n",
    "    fig, ax = plt.subplots(1, 1, figsize=(6,6))\n",
    "    ddem.plot(cmap='coolwarm_r', vmin=-5, vmax=5, ax=ax)\n",
    "    ax.set_title(angle)\n",
    "    plt.show()"
   ]
  },
  {
   "cell_type": "code",
   "execution_count": null,
   "id": "8c316858",
   "metadata": {},
   "outputs": [],
   "source": [
    "deramp = xdem.coreg.Deramp().fit(ref_dem, dem, ss_mask)\n",
    "dem_corrected = deramp.apply(dem)\n",
    "\n",
    "ddem = dem_corrected - ref_dem\n",
    "\n",
    "# roads_mask = gu.Raster(roads_mask_fn)\n",
    "# roads_mask = roads_mask.reproject(dem)\n",
    "# roads_mask = (roads_mask==1)\n",
    "# ddem_roads = ddem[roads_mask]\n",
    "# ddem_roads_med = np.nanmedian(ddem_roads.data)\n",
    "# print(ddem_roads_med)\n",
    "\n",
    "# ddem -= ddem_roads_med\n",
    "\n",
    "ddem_ss = ddem[ss_mask]\n",
    "ddem_ss_med = np.nanmedian(ddem_ss.data)\n",
    "print(ddem_ss_med)\n",
    "\n",
    "ddem.plot(cmap='coolwarm_r', vmin=-5, vmax=5)\n",
    "plt.show()"
   ]
  },
  {
   "cell_type": "code",
   "execution_count": null,
   "id": "09dff346",
   "metadata": {},
   "outputs": [],
   "source": []
  }
 ],
 "metadata": {
  "kernelspec": {
   "display_name": "skysat_snow_env",
   "language": "python",
   "name": "python3"
  },
  "language_info": {
   "codemirror_mode": {
    "name": "ipython",
    "version": 3
   },
   "file_extension": ".py",
   "mimetype": "text/x-python",
   "name": "python",
   "nbconvert_exporter": "python",
   "pygments_lexer": "ipython3",
   "version": "3.11.10"
  }
 },
 "nbformat": 4,
 "nbformat_minor": 5
}
