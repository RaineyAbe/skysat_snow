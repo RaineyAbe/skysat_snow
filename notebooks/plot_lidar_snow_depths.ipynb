{
 "cells": [
  {
   "cell_type": "markdown",
   "id": "968fb93e-d412-4834-9c54-cbb424089ccb",
   "metadata": {},
   "source": [
    "# Plot lidar snow maps at MCS"
   ]
  },
  {
   "cell_type": "code",
   "execution_count": null,
   "id": "9b3d97a0-a8ee-477b-a994-2110dd593e62",
   "metadata": {},
   "outputs": [],
   "source": [
    "import matplotlib.pyplot as plt\n",
    "import numpy as np\n",
    "import xarray as xr\n",
    "import rioxarray as rxr\n",
    "import os, glob"
   ]
  },
  {
   "cell_type": "code",
   "execution_count": null,
   "id": "e0ba2a3c-f6de-45e9-bf60-5359cb015009",
   "metadata": {},
   "outputs": [],
   "source": [
    "data_path = '/Volumes/LaCie/raineyaberle/Research/PhD/SnowMaL/study-sites/MCS/lidar'\n",
    "fns = sorted(glob.glob(os.path.join(data_path, '*.tif')))\n",
    "fns"
   ]
  },
  {
   "cell_type": "code",
   "execution_count": null,
   "id": "002e1259-5d24-4781-8912-48e064a22806",
   "metadata": {},
   "outputs": [],
   "source": [
    "for fn in fns:\n",
    "    sd = rxr.open_rasterio(fn)\n",
    "    date = os.path.basename(fn)[0:8]\n",
    "    \n",
    "    plt.figure(figsize=(8,8))\n",
    "    im = plt.imshow(sd.data[0], cmap='Blues', \n",
    "                    extent=(np.min(sd.x.data)/1e3, np.max(sd.x.data)/1e3,\n",
    "                            np.min(sd.y.data)/1e3, np.max(sd.y.data)/1e3))\n",
    "    plt.colorbar(im, shrink=0.8, label='snow depth [cm]')\n",
    "    plt.title(date)\n",
    "    plt.xlabel('Easting [km]')\n",
    "    plt.ylabel('Northing [km]')"
   ]
  },
  {
   "cell_type": "code",
   "execution_count": null,
   "id": "fd377150-a4d2-4e4d-97cd-0b095a580b69",
   "metadata": {},
   "outputs": [],
   "source": [
    "import matplotlib\n",
    "\n",
    "sd = rxr.open_rasterio(fns[-1])\n",
    "date = os.path.basename(fn)[0:8]\n",
    "\n",
    "cmap = matplotlib.colors.ListedColormap(['w', ])\n",
    "\n",
    "plt.figure(figsize=(8,8))\n",
    "im = plt.imshow(sd.data[0], cmap='Blues', clim=(0,3.5),\n",
    "                extent=(np.min(sd.x.data)/1e3, np.max(sd.x.data)/1e3,\n",
    "                        np.min(sd.y.data)/1e3, np.max(sd.y.data)/1e3))\n",
    "plt.colorbar(im, shrink=0.8, label='snow depth [m]')\n",
    "plt.title(date)\n",
    "plt.xlabel('Easting [km]')\n",
    "plt.ylabel('Northing [km]')"
   ]
  },
  {
   "cell_type": "code",
   "execution_count": null,
   "id": "5a80893e-e517-4a51-8087-13f8bee84a65",
   "metadata": {},
   "outputs": [],
   "source": [
    "matplotlib.colors.ListedColormap(['w', 'b'])"
   ]
  }
 ],
 "metadata": {
  "kernelspec": {
   "display_name": "snow-dems",
   "language": "python",
   "name": "snow-dems"
  },
  "language_info": {
   "codemirror_mode": {
    "name": "ipython",
    "version": 3
   },
   "file_extension": ".py",
   "mimetype": "text/x-python",
   "name": "python",
   "nbconvert_exporter": "python",
   "pygments_lexer": "ipython3",
   "version": "3.11.9"
  }
 },
 "nbformat": 4,
 "nbformat_minor": 5
}
