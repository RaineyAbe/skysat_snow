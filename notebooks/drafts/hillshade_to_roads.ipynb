{
 "cells": [
  {
   "cell_type": "markdown",
   "id": "1a1a1187-3751-4398-9d53-fc49df852f65",
   "metadata": {},
   "source": [
    "# Stable surface mask from hillshade of reference DEM"
   ]
  },
  {
   "cell_type": "code",
   "execution_count": null,
   "id": "34cbcc52-a8cc-484d-b073-2e3715fb00b9",
   "metadata": {},
   "outputs": [],
   "source": [
    "import xarray as xr\n",
    "import numpy as np\n",
    "import matplotlib.pyplot as plt\n",
    "import xrspatial as xrs\n",
    "import scipy\n",
    "import os\n",
    "import skimage\n",
    "from shapely.geometry import LineString, Polygon, MultiPolygon\n",
    "import geopandas as gpd"
   ]
  },
  {
   "cell_type": "markdown",
   "id": "f41cebce-cde8-4711-9233-84e9406f74b4",
   "metadata": {},
   "source": [
    "## Load DEM from file"
   ]
  },
  {
   "cell_type": "code",
   "execution_count": null,
   "id": "f750d5d9-6979-4764-9284-1895df1d4321",
   "metadata": {
    "scrolled": true
   },
   "outputs": [],
   "source": [
    "# Load DEM from file\n",
    "data_path = f'/Volumes/LaCie/raineyaberle/Research/PhD/SkySat-Stereo/study-sites/MCS'\n",
    "# data_path = f'/Users/rdcrlrka/Research/PhD/SkySat-Stereo/study-sites/{site_name}/'\n",
    "dem_fn = os.path.join(data_path, 'refdem', 'MCS_REFDEM_WGS84.tif')\n",
    "dem_da = xr.open_dataarray(dem_fn).squeeze()\n",
    "dem_ds = xr.open_dataset(dem_fn).squeeze()\n",
    "dem_ds = dem_ds.rename({'band_data':'elevation'})\n",
    "dem_ds"
   ]
  },
  {
   "cell_type": "markdown",
   "id": "f5539866-c9c9-452e-beff-a974a8c93ce6",
   "metadata": {},
   "source": [
    "## Calculate slope and hillshade"
   ]
  },
  {
   "cell_type": "code",
   "execution_count": null,
   "id": "e1dda1c9-a6da-43c1-8e53-da1b3507fedf",
   "metadata": {},
   "outputs": [],
   "source": [
    "# Calculate slope and hillshade\n",
    "dem_ds['slope'] = xrs.slope(dem_da)\n",
    "dem_ds['hillshade'] = xrs.hillshade(dem_da, angle_altitude=25)\n",
    "dem_ds"
   ]
  },
  {
   "cell_type": "code",
   "execution_count": null,
   "id": "8a20a271-d8ad-4ee1-a04d-3b54cef1ab60",
   "metadata": {},
   "outputs": [],
   "source": [
    "# Plot\n",
    "fig, ax = plt.subplots(1, 2, figsize=(12,6))\n",
    "im = ax[0].imshow(dem_ds['slope'].data, cmap='PuOr', clim=(0,20),\n",
    "                  extent=(np.min(dem_ds.x.data), np.max(dem_ds.x.data), np.min(dem_ds.y.data), np.max(dem_ds.y.data)))\n",
    "fig.colorbar(im, ax=ax[0], label='degrees', shrink=0.8, orientation='horizontal')\n",
    "ax[0].set_title('Slope')\n",
    "im = ax[1].imshow(dem_ds['hillshade'].data, cmap='Greys', clim=(0,1),\n",
    "                  extent=(np.min(dem_ds.x.data), np.max(dem_ds.x.data), np.min(dem_ds.y.data), np.max(dem_ds.y.data)))\n",
    "fig.colorbar(im, ax=ax[1], label='reflectance', shrink=0.8, orientation='horizontal')\n",
    "ax[1].set_title('Hillshade')                  \n",
    "\n",
    "plt.show()"
   ]
  },
  {
   "cell_type": "markdown",
   "id": "c1ac4f2a-a725-4803-9bfa-ae4c6742c1ca",
   "metadata": {},
   "source": [
    "## Test and apply threshold(s) for elevation and slope"
   ]
  },
  {
   "cell_type": "code",
   "execution_count": null,
   "id": "07449bf1-c425-4ef7-9ea4-9b82dd450039",
   "metadata": {},
   "outputs": [],
   "source": [
    "# Select threshold values\n",
    "thresh_elev = 1900\n",
    "thresh_slope = 5\n",
    "\n",
    "# Apply threshold values\n",
    "dem_thresh = xr.where((dem_ds['elevation'] < thresh_elev) & (dem_ds['slope'] < thresh_slope), 1, 0)\n",
    "\n",
    "# Fill holes and smooth the thresholded image\n",
    "dem_thresh_filled = scipy.ndimage.binary_fill_holes(dem_thresh.data)\n",
    "dem_thresh_filled_smoothed = skimage.filters.gaussian(dem_thresh_filled, sigma=5)\n",
    "\n",
    "# Plot\n",
    "plt.figure(figsize=(12,12))\n",
    "plt.imshow(dem_thresh_filled_smoothed, cmap='Greys')\n",
    "plt.colorbar(shrink=0.5)\n",
    "plt.show()"
   ]
  },
  {
   "cell_type": "code",
   "execution_count": null,
   "id": "95f3d20f-62e6-4a57-ad8f-ced95170658d",
   "metadata": {},
   "outputs": [],
   "source": [
    "# Select threshold values\n",
    "# thresh_elev = 1900\n",
    "# thresh_slope = 5\n",
    "\n",
    "# # Apply threshold values\n",
    "# dem_thresh = xr.where((dem_ds['elevation'] < thresh_elev) & (dem_ds['slope'] < thresh_slope), 1, 0)\n",
    "\n",
    "# # Fill holes and smooth the thresholded image\n",
    "# dem_thresh_filled = scipy.ndimage.binary_fill_holes(dem_thresh.data)\n",
    "# dem_thresh_filled_smoothed = skimage.filters.gaussian(dem_thresh_filled, sigma=5)\n",
    "\n",
    "# # Identify contours in thresholded image\n",
    "# contours = skimage.measure.find_contours(dem_thresh_filled)\n",
    "# print(f'{len(contours)} contours found')\n",
    "\n",
    "# Convert contour coordinates to map coordinates and create polygons\n",
    "x_res = dem_ds.x.data[1] - dem_ds.x.data[0]\n",
    "y_res = dem_ds.y.data[1] - dem_ds['y'][0]).item()\n",
    "x_min = dem_ds['x'].min().item()\n",
    "y_max = dem_ds['y'].max().item()  # y_max because y coordinates are typically decreasing\n",
    "\n",
    "# Define a function to convert image coordinates to map coordinates\n",
    "def image_to_map_coordinates(x, y, x_res, y_res, x_min, y_max):\n",
    "    map_x = x_min + x * x_res\n",
    "    map_y = y_max - y * y_res  # minus because image coordinates start from top left\n",
    "    return map_x, map_y\n",
    "\n",
    "polys_list = []\n",
    "for contour in contours:\n",
    "    contour_map_coords = np.array([image_to_map_coordinates(x, y, x_res, y_res, x_min, y_max) for x, y in contour])\n",
    "    polys_list.append(Polygon(contour_map_coords))\n"
   ]
  },
  {
   "cell_type": "markdown",
   "id": "b40b29de-1ce9-4788-b697-aff43b833dc2",
   "metadata": {},
   "source": [
    "## Identify contours in the thresholded image, filter, and polygonize"
   ]
  },
  {
   "cell_type": "code",
   "execution_count": null,
   "id": "99b636a7-32e1-40da-bd4f-11aebdd923ab",
   "metadata": {
    "scrolled": true
   },
   "outputs": [],
   "source": [
    "contours = skimage.measure.find_contours(dem_thresh_filled)\n",
    "print(f'{len(contours)} contours found')\n"
   ]
  },
  {
   "cell_type": "code",
   "execution_count": null,
   "id": "694817a9-1c2b-46e0-87a9-59ae94790986",
   "metadata": {},
   "outputs": [],
   "source": [
    "# Convert contour coordinates from image to map, polygonize contours \n",
    "def image_to_map_coordinates(image, x, y):\n",
    "    # Extract the affine transform from the dataset attributes\n",
    "    transform = image.rio.transform()\n",
    "    # Create the transform if it is missing from the image\n",
    "    if not transform:\n",
    "        import affine\n",
    "        x_res = image.x.data[1] - dem.x.data[0]\n",
    "        y_res = image.y.data[1] - dem.y.data[0]\n",
    "        x_min = image.x.data.min()\n",
    "        y_max = image.y.data.max()  # y_max because y coordinates are typically decreasing\n",
    "        transform = affine.Affine.translation(x_min, y_max) * affine.Affine.scale(x_res, -y_res)\n",
    "    # Apply the transform to the x and y coordinates\n",
    "    map_x, map_y = transform * (x, y)\n",
    "    return map_x, map_y\n",
    "# Iterate over contours\n",
    "polys_list = []\n",
    "for contour in contours:\n",
    "    contour_x, contour_y = contour[:,0], contour[:,1]\n",
    "    contour_map_x, contour_map_y = image_to_map_coordinates(dem_ds, contour_x, contour_y)\n",
    "    polys_list.append(Polygon(list(zip(contour_map_x, contour_map_y))))\n",
    "\n",
    "# Filter polygons by area threshold\n",
    "area_thresh = 1e3\n",
    "polys_list_filt = [poly for poly in polys_list if poly.area > area_thresh]\n",
    "poly_areas = np.array([poly.area for poly in polys_list_filt])\n",
    "print(f'{len(polys_list_filt)} remain after filtering by area')\n",
    "\n",
    "# Convert polygons to geopandas.GeoDataFrame\n",
    "polys_gdf = gpd.GeoDataFrame(geometry=[MultiPolygon(polys_list_filt)], crs=f'EPSG:{dem_ds.rio.crs.to_epsg()}')\n",
    "\n",
    "fig, ax = plt.subplots(1, 2, figsize=(12,6))\n",
    "polys_gdf.plot(ax=ax[0])\n",
    "ax[1].hist(poly_areas, bins=20)\n",
    "ax[1].set_xlabel('Polygon area [m$^2$]')\n",
    "ax[1].set_ylabel('Count')\n",
    "plt.show()"
   ]
  },
  {
   "cell_type": "markdown",
   "id": "d8724532-b053-4751-a670-c3eda798a936",
   "metadata": {},
   "source": [
    "## Save to file"
   ]
  },
  {
   "cell_type": "code",
   "execution_count": null,
   "id": "4c7aa185-17f0-4731-8335-f6e8b6a4c7c5",
   "metadata": {},
   "outputs": [],
   "source": [
    "out_fn = dem_fn.replace('.tif', '_roads.shp')\n",
    "polys_gdf.to_file(out_fn, index=False)\n",
    "print('Roads shapefile saved to file:', out_fn)"
   ]
  }
 ],
 "metadata": {
  "kernelspec": {
   "display_name": "snow-dems",
   "language": "python",
   "name": "snow-dems"
  },
  "language_info": {
   "codemirror_mode": {
    "name": "ipython",
    "version": 3
   },
   "file_extension": ".py",
   "mimetype": "text/x-python",
   "name": "python",
   "nbconvert_exporter": "python",
   "pygments_lexer": "ipython3",
   "version": "3.11.9"
  }
 },
 "nbformat": 4,
 "nbformat_minor": 5
}
