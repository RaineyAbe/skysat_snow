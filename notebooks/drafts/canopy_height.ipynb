{
 "cells": [
  {
   "cell_type": "markdown",
   "id": "f119cc5d-0dc3-4c21-9d7c-49a23dd12e5c",
   "metadata": {},
   "source": [
    "# Add canopy height model to reference DEM"
   ]
  },
  {
   "cell_type": "code",
   "execution_count": 1,
   "id": "a24ae34d-4c00-4d69-802b-c1275b40e568",
   "metadata": {},
   "outputs": [],
   "source": [
    "import os\n",
    "import xdem\n",
    "import geoutils as gu\n",
    "import matplotlib.pyplot as plt\n",
    "import matplotlib\n",
    "import numpy as np\n",
    "import rioxarray as rxr\n",
    "import xarray as xr"
   ]
  },
  {
   "cell_type": "code",
   "execution_count": 2,
   "id": "5653910d-2941-4892-b29b-52a9c485a0d3",
   "metadata": {},
   "outputs": [],
   "source": [
    "# Define input layers\n",
    "data_dir = '/Volumes/LaCie/raineyaberle/Research/PhD/Skysat-Stereo/study-sites/MCS/'\n",
    "refdem_fn = os.path.join(data_dir, 'refdem', 'MCS_REFDEM_WGS84.tif')\n",
    "chm_fn = os.path.join(data_dir, 'refdem', 'chm_mcs_1m.tif')"
   ]
  },
  {
   "cell_type": "code",
   "execution_count": 15,
   "id": "d8f32184-4ab0-4a82-b8d1-877e7bd9937a",
   "metadata": {},
   "outputs": [],
   "source": [
    "# Explore the canopy height model\n",
    "chm = rxr.open_rasterio(chm_fn).squeeze()\n",
    "crs = chm.rio.crs\n",
    "chm = xr.where(chm < -1e10, np.nan, chm) # remove no data values\n",
    "\n",
    "# Plot pre-masked data\n",
    "# plt.figure(figsize=(12,12))\n",
    "# lt0_mask = xr.where(chm < 0, 1, np.nan)\n",
    "# im = plt.imshow(lt0_mask.data, cmap='Reds', clim=(0,1))\n",
    "# plt.colorbar(orientation='horizontal', label='Canopy height [m]', shrink=0.8)\n",
    "# plt.xticks([])\n",
    "# plt.yticks([])\n",
    "# # ax[1].hist(np.ravel(chm.data), bins=100)\n",
    "# # ax[1].set_xlabel('Canopy height [m]')\n",
    "# plt.show()\n",
    "\n",
    "# # Mask values < 0\n",
    "# chm = xr.where(chm < 0, np.nan, chm)\n",
    "\n",
    "# # plot\n",
    "# fig, ax = plt.subplots(1, 2, figsize=(10,5))\n",
    "# im = ax[0].imshow(chm.data, cmap='Greens', clim=(0,30))\n",
    "# fig.colorbar(im, ax=ax[0], orientation='horizontal', label='Canopy height [m]', shrink=0.8)\n",
    "# ax[0].set_xticks([])\n",
    "# ax[0].set_yticks([])\n",
    "# ax[1].hist(np.ravel(chm.data), bins=100)\n",
    "# ax[1].set_xlabel('Canopy height [m]')\n",
    "# plt.show()"
   ]
  },
  {
   "cell_type": "code",
   "execution_count": 23,
   "id": "ac372458-30b3-4424-8409-093a65ec70e2",
   "metadata": {},
   "outputs": [
    {
     "data": {
      "text/plain": [
       "0.045575943295401926"
      ]
     },
     "execution_count": 23,
     "metadata": {},
     "output_type": "execute_result"
    }
   ],
   "source": [
    "len(np.argwhere(chm.data < 0)) / len(np.argwhere(~np.isnan(chm.data)))"
   ]
  },
  {
   "cell_type": "code",
   "execution_count": null,
   "id": "65dabfc6-8044-42ef-b107-214909cf29eb",
   "metadata": {},
   "outputs": [],
   "source": [
    "# Add vegetation to bare earth DEM\n",
    "out_fn = refdem_fn.replace('.tif', '_CHM.tif')\n",
    "\n",
    "refdem = xdem.DEM(refdem_fn)\n",
    "chm = gu.Raster(chm_fn, load_data=True)\n",
    "\n",
    "chm = chm.reproject(refdem)\n",
    "refdem_chm = refdem + chm\n",
    "\n",
    "fig, ax = plt.subplots(1, 3, figsize=(12,5))\n",
    "refdem.plot(ax=ax[0], cmap='terrain')\n",
    "chm.plot(ax=ax[1], cmap='Greens', vmin=0, vmax=45)\n",
    "refdem_chm.plot(ax=ax[2], cmap='terrain')\n",
    "fig.tight_layout()\n",
    "plt.show()\n",
    "\n",
    "refdem_chm.save(out_fn)\n",
    "print('Reference DEM + CHM saved to file:', out_fn)"
   ]
  },
  {
   "cell_type": "code",
   "execution_count": null,
   "id": "94edd591-c1f2-4286-a666-5ba3d3cbf478",
   "metadata": {},
   "outputs": [],
   "source": [
    "# Mask areas where veg >= threshold\n",
    "threshold = 0\n",
    "mask = (chm >= threshold)\n",
    "masked_data = np.ma.masked_where((mask.data==1) | refdem_chm.data.mask, refdem_chm.data)\n",
    "refdem_chm_masked = gu.Raster.from_array(data=masked_data,\n",
    "                                         transform=refdem.transform, \n",
    "                                         crs=refdem.crs, \n",
    "                                         nodata=-9999)\n",
    "# Plot\n",
    "refdem_chm_masked.plot()\n",
    "\n",
    "# Save to file\n",
    "out_fn = refdem_fn.replace('.tif', f'_CHM-lte-{threshold}m.tif')\n",
    "refdem_chm_masked.save(out_fn)\n",
    "print(f'Reference DEM + CHM <= {threshold} m saved to file:', out_fn)"
   ]
  },
  {
   "cell_type": "code",
   "execution_count": null,
   "id": "f67e4579-b8a3-4c61-a978-9599ff6d0deb",
   "metadata": {},
   "outputs": [],
   "source": []
  }
 ],
 "metadata": {
  "kernelspec": {
   "display_name": "snow-dems",
   "language": "python",
   "name": "snow-dems"
  },
  "language_info": {
   "codemirror_mode": {
    "name": "ipython",
    "version": 3
   },
   "file_extension": ".py",
   "mimetype": "text/x-python",
   "name": "python",
   "nbconvert_exporter": "python",
   "pygments_lexer": "ipython3",
   "version": "3.11.9"
  }
 },
 "nbformat": 4,
 "nbformat_minor": 5
}
