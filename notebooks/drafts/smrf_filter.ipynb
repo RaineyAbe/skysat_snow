{
 "cells": [
  {
   "cell_type": "markdown",
   "id": "1b1801be-c6e7-4a21-ac35-bcfedadf147d",
   "metadata": {},
   "source": [
    "# Test applying the SMRF filter to SkySat point cloud before rasterizing"
   ]
  },
  {
   "cell_type": "code",
   "execution_count": null,
   "id": "a05362a0-2485-42b7-adb9-e2ef5ad748c9",
   "metadata": {},
   "outputs": [],
   "source": [
    "import os\n",
    "import pdal\n",
    "from osgeo import gdal\n",
    "import xarray as xr\n",
    "import matplotlib.pyplot as plt\n",
    "import numpy as np\n",
    "import json"
   ]
  },
  {
   "cell_type": "code",
   "execution_count": null,
   "id": "029a9255-0990-4f04-b354-d1d696d4f804",
   "metadata": {},
   "outputs": [],
   "source": [
    "in_dir = '/Volumes/LaCie/raineyaberle/Research/PhD/SkySat-Stereo/study-sites/MCS/testing_smrf'\n",
    "in_file_fn = 'output.laz'"
   ]
  },
  {
   "cell_type": "markdown",
   "id": "cffa3dc0-d88a-4287-b540-f96a559069db",
   "metadata": {},
   "source": [
    "## Plot"
   ]
  },
  {
   "cell_type": "code",
   "execution_count": null,
   "id": "2c2e9e2f-cab3-4091-b904-aca77561a29f",
   "metadata": {},
   "outputs": [],
   "source": [
    "pipeline_json = \"\"\"\n",
    "{\n",
    "    \"pipeline\": [\n",
    "        {\n",
    "            \"type\": \"readers.las\",\n",
    "            \"filename\": \"/Volumes/LaCie/raineyaberle/Research/PhD/SkySat-Stereo/study-sites/MCS/testing_smrf/output.laz\"\n",
    "        }\n",
    "    ]\n",
    "}\n",
    "\"\"\"\n",
    "\n",
    "# Create and run the pipeline\n",
    "pipeline = pdal.Pipeline(pipeline_json)\n",
    "pipeline.execute()\n",
    "\n",
    "# Get the point cloud as a NumPy array\n",
    "arrays = pipeline.arrays\n",
    "points = arrays[0]  # Get the first (and only) array\n",
    "x = points['X']\n",
    "y = points['Y']\n",
    "z = points['Z']"
   ]
  },
  {
   "cell_type": "code",
   "execution_count": null,
   "id": "88e8670f-a37c-4355-968f-3fe43efdddf4",
   "metadata": {},
   "outputs": [],
   "source": [
    "x"
   ]
  }
 ],
 "metadata": {
  "kernelspec": {
   "display_name": "pdal",
   "language": "python",
   "name": "pdal"
  },
  "language_info": {
   "codemirror_mode": {
    "name": "ipython",
    "version": 3
   },
   "file_extension": ".py",
   "mimetype": "text/x-python",
   "name": "python",
   "nbconvert_exporter": "python",
   "pygments_lexer": "ipython3",
   "version": "3.12.6"
  }
 },
 "nbformat": 4,
 "nbformat_minor": 5
}
