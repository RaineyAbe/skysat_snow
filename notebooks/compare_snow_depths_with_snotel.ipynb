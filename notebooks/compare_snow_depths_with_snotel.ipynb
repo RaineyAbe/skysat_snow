{
 "cells": [
  {
   "cell_type": "markdown",
   "id": "443945ab-b8b1-4d73-a47b-92376ebc3e84",
   "metadata": {},
   "source": [
    "# Compare output snow depth estimates to SNOTEL observations"
   ]
  },
  {
   "cell_type": "code",
   "execution_count": null,
   "id": "f6eba3b7-9287-4f39-9421-633459c23f95",
   "metadata": {},
   "outputs": [],
   "source": [
    "import os, glob\n",
    "import matplotlib.pyplot as plt\n",
    "import numpy as np\n",
    "import xarray as xr\n",
    "import rioxarray as rxr\n",
    "import pandas as pd\n",
    "import geopandas as gpd\n",
    "from shapely import wkt\n",
    "import re"
   ]
  },
  {
   "cell_type": "code",
   "execution_count": null,
   "id": "a2341321-1bf4-454e-acb8-de713350d8ea",
   "metadata": {},
   "outputs": [],
   "source": [
    "site_name = 'MCS'\n",
    "date = '20240420'\n",
    "sd_dir = '/Volumes/LaCie/raineyaberle/Research/PhD/SkySat-Stereo/snow_depth_maps'\n",
    "out_fn = os.path.join(sd_dir, f'{site_name}_{date}_snow_depth_estimates_comparison.png')\n",
    "\n",
    "sd_fns = sorted(glob.glob(os.path.join(sd_dir, '*differences.tif')))\n",
    "print('Snow depth map file names:')\n",
    "print(sd_fns)\n",
    "\n",
    "snotel_dir = f'/Volumes/LaCie/raineyaberle/Research/PhD/SkySat-Stereo/study-sites/{site_name}/snotel/'\n",
    "snotel_fn = glob.glob(os.path.join(snotel_dir, '*_adj.csv'))[0]\n",
    "print('\\nSNOTEL file name:')\n",
    "print(snotel_fn)\n",
    "\n",
    "snotel_info_fn = glob.glob(os.path.join(snotel_dir, '*_site_info.csv'))[0]\n",
    "print('\\nSNOTEL site info file name:')\n",
    "print(snotel_info_fn)"
   ]
  },
  {
   "cell_type": "code",
   "execution_count": null,
   "id": "59504505-edc8-4d31-81af-3ecbdae39268",
   "metadata": {
    "scrolled": true
   },
   "outputs": [],
   "source": [
    "# Load SNOTEL site info\n",
    "snotel_info = pd.read_csv(snotel_info_fn)\n",
    "snotel_info['geometry'] = snotel_info['geometry'].apply(wkt.loads)\n",
    "snotel_info_gdf = gpd.GeoDataFrame(snotel_info, geometry='geometry', crs='EPSG:4326')\n",
    "# Load SNOTEL data\n",
    "snotel = pd.read_csv(snotel_fn)\n",
    "snotel['datetime'] = pd.to_datetime(snotel['datetime'])\n",
    "# Identify snow depth for date\n",
    "dt = pd.to_datetime(f'{date[0:4]}-{date[4:6]}-{date[6:8]} 00:00:00+00:00')\n",
    "snotel['dt'] = snotel['datetime'] - dt\n",
    "snotel_sd = snotel.loc[np.abs(snotel['dt']) == np.abs(snotel['dt']).min(), 'SNWD_m'].values[0]\n",
    "print(f'SNOTEL snow depth = {snotel_sd} m')"
   ]
  },
  {
   "cell_type": "code",
   "execution_count": null,
   "id": "9a9a323f-62d1-4dab-903a-0a7db420bd57",
   "metadata": {},
   "outputs": [],
   "source": []
  },
  {
   "cell_type": "code",
   "execution_count": null,
   "id": "6e13fff6-ba9e-48d4-a330-9f0f07afcb97",
   "metadata": {},
   "outputs": [],
   "source": []
  },
  {
   "cell_type": "code",
   "execution_count": null,
   "id": "7f30194a-44c1-4b4d-8a37-14ee9361faf7",
   "metadata": {},
   "outputs": [],
   "source": [
    "# Set up figure\n",
    "plt.rcParams.update({'font.sans-serif':'Arial', 'font.size':12})\n",
    "fig, ax = plt.subplots(len(sd_fns), 1, figsize=(10, 4*len(sd_fns)))\n",
    "\n",
    "# Iterate over snow depth maps\n",
    "for i, sd_fn in enumerate(sd_fns):\n",
    "    # Load snow depth map\n",
    "    sd = rxr.open_rasterio(sd_fn)\n",
    "    sd_crs = f'EPSG:{sd.rio.crs.to_epsg()}'\n",
    "    sd = xr.where(sd==sd.attrs['_FillValue'], np.nan, sd)\n",
    "    sd_data = np.ravel(sd.data)\n",
    "\n",
    "    # sample snow depth map at snotel point\n",
    "    snotel_info_gdf_reproj = snotel_info_gdf.to_crs(sd_crs)\n",
    "    snotel_reproj = snotel_info_gdf.to_crs(sd_crs)\n",
    "    sample_x = snotel_reproj['geometry'].values[0].coords.xy[0][0]\n",
    "    sample_y = snotel_reproj['geometry'].values[0].coords.xy[1][0]\n",
    "    sample_sd = sd.sel(x=sample_x, y=sample_y, method='nearest').data[0]\n",
    "    sample_snotel_diff = sample_sd - snotel_sd\n",
    "    \n",
    "    # plot\n",
    "    ax[i].hist(sd_data, color='grey', bins=50)\n",
    "    ymin, ymax = ax[i].get_ylim()\n",
    "    ax[i].plot([snotel_sd, snotel_sd], [ymin, ymax], '-c', linewidth=2, label='SNOTEL')\n",
    "    ax[i].plot([sample_sd, sample_sd], [ymin, ymax], '-k', linewidth=1, label='dDEM')\n",
    "    ax[i].legend(loc='upper right')\n",
    "    ss_method = ('roads' if 'ss-roads' in os.path.basename(sd_fn) else 'Sentinel-2 NDSI')\n",
    "    methods = os.path.basename(sd_fn).split('_')\n",
    "    coreg_method = [x for x in methods if 'Nuth' in x][0]\n",
    "    ss_method = [x for x in methods if ('ss-roads' in x) or ('ss-S2' in x)][0]\n",
    "    mask_method = [x for x in methods if 'masked-' in x][0]\n",
    "    nmad_thresh = mask_method.split('NMAD')[1].split('m')[0]\n",
    "    refl_thresh = mask_method.split('refl')[1]\n",
    "    title = (f'Stable surfaces = {ss_method}'\n",
    "             f'\\nCoregistration method: {coreg_method}'\n",
    "             f'\\nMasking method: NMAD <= {nmad_thresh} m, Refl >= {refl_thresh}'\n",
    "             f'\\ndDEM - SNOTEL = {np.round(sample_snotel_diff, 2)} m')\n",
    "    ax[i].set_xlim(-10, 10)\n",
    "    ax[i].set_ylim(ymin, ymax)\n",
    "    ax[i].set_title(title)\n",
    "ax[i].set_ylabel('Count')\n",
    "\n",
    "ax[-1].set_xlabel('Snow depth estimate [m]')\n",
    "\n",
    "fig.tight_layout()\n",
    "plt.show()\n",
    "\n",
    "# Save figure\n",
    "fig.savefig(out_fn, dpi=300, bbox_inches='tight')\n",
    "print('Figure saved to file:', out_fn)"
   ]
  },
  {
   "cell_type": "code",
   "execution_count": null,
   "id": "39066100-c678-4de2-9fa4-8f1516c09c84",
   "metadata": {},
   "outputs": [],
   "source": []
  }
 ],
 "metadata": {
  "kernelspec": {
   "display_name": "snow-dems",
   "language": "python",
   "name": "snow-dems"
  },
  "language_info": {
   "codemirror_mode": {
    "name": "ipython",
    "version": 3
   },
   "file_extension": ".py",
   "mimetype": "text/x-python",
   "name": "python",
   "nbconvert_exporter": "python",
   "pygments_lexer": "ipython3",
   "version": "3.11.9"
  }
 },
 "nbformat": 4,
 "nbformat_minor": 5
}
