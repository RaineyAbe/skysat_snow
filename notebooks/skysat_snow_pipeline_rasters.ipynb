{
 "cells": [
  {
   "cell_type": "markdown",
   "id": "3171e89d-d7b8-498c-8e2a-3512418e69e6",
   "metadata": {},
   "source": [
    "# SkySat-snow pipeline: coregister and difference RASTERS"
   ]
  },
  {
   "cell_type": "code",
   "execution_count": 2,
   "id": "11a95d54-3dcf-4c4c-8d8f-002c37cbd937",
   "metadata": {},
   "outputs": [],
   "source": [
    "import os\n",
    "import sys\n",
    "\n",
    "# Define paths in directory\n",
    "code_dir = '/Users/raineyaberle/Research/PhD/SnowDEMs/skysat-snow'\n",
    "ref_dem_fn = '/Volumes/LaCie/raineyaberle/Research/PhD/Skysat-Stereo/study-sites/MCS/refdem/MCS_REFDEM_WGS84.tif'\n",
    "pc_dir = '/Volumes/LaCie/raineyaberle/Research/PhD/Skysat-Stereo/study-sites/MCS/20241003/point_clouds'\n",
    "roads_fn = '/Volumes/LaCie/raineyaberle/Research/PhD/Skysat-Stereo/study-sites/MCS/roads/MCS_roads_line_merged_UTM11N.shp'\n",
    "multispec_dir = '/Volumes/LaCie/raineyaberle/Research/PhD/SkySat-Stereo/study-sites/MCS/20241003/point_clouds'\n",
    "asp_dir = '/Users/raineyaberle/Research/PhD/SnowDEMs/StereoPipeline-3.5.0-alpha-2024-10-05-x86_64-OSX/bin'\n",
    "out_dir = '/Volumes/LaCie/raineyaberle/Research/PhD/Skysat-Stereo/study-sites/MCS/20241003'\n",
    "res = 2 # spatial resolution of outputs [m]\n",
    "roads_buffer = 3 # buffer for roads geospatial file [m]\n",
    "\n",
    "# Check that input files and directories exist\n",
    "if not os.path.exists(ref_dem_fn):\n",
    "    print('Reference DEM file not found, please correct ref_dem_fn before continuing.')\n",
    "if not os.path.exists(pc_dir):\n",
    "    print('Path to point clouds not found, please correct pc_dir before continuing.')\n",
    "if not os.path.exists(roads_fn):\n",
    "    print('Roads geospatial file not found, please correct roads_fn before continuing.')\n",
    "if not os.path.exists(multispec_dir):\n",
    "    print('Multispectral iamges folder not found, please correct multispec_dir before continuing.')\n",
    "if not os.path.exists(asp_dir):\n",
    "    print('Path to ASP not found, please correct asp_dir before continuing.')\n",
    "out_dir = os.path.join(out_dir, 'ice-road-skysat')\n",
    "if not os.path.exists(out_dir):\n",
    "    os.mkdir(out_dir)\n",
    "    print('Made directory for outputs:', out_dir)\n",
    "\n",
    "# Make results directories\n",
    "preprocess_dir = os.path.join(out_dir, 'preprocess')\n",
    "masks_dir = os.path.join(out_dir, 'land_cover_masks')\n",
    "deramp_dir = os.path.join(out_dir, 'deramp_init')\n",
    "coreg_init_dir = os.path.join(out_dir, 'coreg_diff_init')\n",
    "postprocess_dir = os.path.join(out_dir, 'postprocess')\n",
    "for folder in [preprocess_dir, masks_dir, deramp_dir, coreg_init_dir, postprocess_dir]:\n",
    "    if not os.path.exists(folder):\n",
    "        os.mkdir(folder)\n",
    "\n",
    "# Add path to pipeline utilities\n",
    "sys.path.append(os.path.join(code_dir, 'skysat-snow'))\n",
    "import pipeline_utils_raster as f"
   ]
  },
  {
   "cell_type": "markdown",
   "id": "8631ea2a",
   "metadata": {},
   "source": [
    "## 1. Preprocessing"
   ]
  },
  {
   "cell_type": "code",
   "execution_count": null,
   "id": "dc1e662d",
   "metadata": {},
   "outputs": [],
   "source": [
    "# Merge and filter point clouds\n",
    "pc_filtered_las_fn, pc_filtered_tif_fn = f.preprocess_point_clouds(pc_dir, ref_dem_fn, res, preprocess_dir)\n",
    "\n",
    "# Mosaic 4-band SR imagery, preprocess roads and reference DEM\n",
    "multispec_mosaic_fn, roads_adj_fn, ref_dem_adj_fn = f.preprocess_multispec_refdem_roads(multispec_dir, ref_dem_fn, roads_fn, roads_buffer, res, out_dir)\n"
   ]
  },
  {
   "cell_type": "markdown",
   "id": "afd65a05",
   "metadata": {},
   "source": [
    "## 2. Construct land cover masks"
   ]
  },
  {
   "cell_type": "code",
   "execution_count": null,
   "id": "7d1cafcd",
   "metadata": {},
   "outputs": [],
   "source": [
    "multispec_mosaic_fn, trees_mask_fn, snow_mask_fn, roads_mask_fn, ss_mask_fn = f.construct_land_cover_masks(multispec_mosaic_fn, \n",
    "                                                                                                           roads_adj_fn, \n",
    "                                                                                                           masks_dir, \n",
    "                                                                                                           roads_buffer,\n",
    "                                                                                                           ndvi_threshold=0.2)"
   ]
  },
  {
   "cell_type": "markdown",
   "id": "81491849",
   "metadata": {},
   "source": [
    "## 3. Initial deramping"
   ]
  },
  {
   "cell_type": "code",
   "execution_count": null,
   "id": "da11d90d",
   "metadata": {},
   "outputs": [],
   "source": [
    "dem_deramped_init_fn = f.deramp(ref_dem_fn=ref_dem_fn, \n",
    "                                tba_dem_fn=pc_filtered_tif_fn, \n",
    "                                ss_mask_fn=ss_mask_fn, \n",
    "                                out_dir=deramp_init_dir,\n",
    "                                vmin=-10, vmax=10)"
   ]
  },
  {
   "cell_type": "markdown",
   "id": "3c3d20d0",
   "metadata": {},
   "source": [
    "## 4. Initial coregistration"
   ]
  },
  {
   "cell_type": "code",
   "execution_count": null,
   "id": "5ac700a6",
   "metadata": {},
   "outputs": [],
   "source": [
    "dem_coreg_init_fn = f.coregister_difference_dems(ref_dem_fn=ref_dem_adj_fn, \n",
    "                                                 source_dem_fn=dem_deramped_init_fn, \n",
    "                                                 ss_mask_fn=ss_mask_fn, \n",
    "                                                 out_dir=coreg_diff_init_dir, \n",
    "                                                 coreg_method='NuthKaab', \n",
    "                                                 coreg_stable_only=True, \n",
    "                                                 vmin=-5, vmax=5)"
   ]
  },
  {
   "cell_type": "markdown",
   "id": "de9fc006",
   "metadata": {},
   "source": [
    "## 5. Final deramping"
   ]
  },
  {
   "cell_type": "code",
   "execution_count": null,
   "id": "ee841d50-27e5-437d-8cfe-3029e39ffef1",
   "metadata": {},
   "outputs": [],
   "source": [
    "dem_deramped_final_fn = f.deramp(ref_dem_fn=ref_dem_adj_fn, \n",
    "                                 tba_dem_fn=dem_coreg_init_fn, \n",
    "                                 ss_mask_fn=ss_mask_fn,\n",
    "                                 out_dir=deramp_final_dir,\n",
    "                                 vmin=-5, vmax=5)"
   ]
  },
  {
   "cell_type": "markdown",
   "id": "77038ee2",
   "metadata": {},
   "source": [
    "## 6. Final coregistration and differencing"
   ]
  },
  {
   "cell_type": "code",
   "execution_count": null,
   "id": "081be09c-abc8-42b1-b7e7-fe12c83e796e",
   "metadata": {},
   "outputs": [],
   "source": [
    "dem_coreg_final_fn = f.coregister_difference_dems(ref_dem_fn=ref_dem_adj_fn, \n",
    "                                                  source_dem_fn=dem_deramped_final_fn, \n",
    "                                                  ss_mask_fn=ss_mask_fn, \n",
    "                                                  out_dir=coreg_diff_final_dir, \n",
    "                                                  coreg_method='NuthKaab', \n",
    "                                                  coreg_stable_only=True, \n",
    "                                                  vmin=-5, vmax=5)"
   ]
  },
  {
   "cell_type": "code",
   "execution_count": null,
   "id": "291fc3c9",
   "metadata": {},
   "outputs": [],
   "source": []
  }
 ],
 "metadata": {
  "kernelspec": {
   "display_name": "skysat_snow_env",
   "language": "python",
   "name": "python3"
  },
  "language_info": {
   "codemirror_mode": {
    "name": "ipython",
    "version": 3
   },
   "file_extension": ".py",
   "mimetype": "text/x-python",
   "name": "python",
   "nbconvert_exporter": "python",
   "pygments_lexer": "ipython3",
   "version": "3.11.10"
  }
 },
 "nbformat": 4,
 "nbformat_minor": 5
}
