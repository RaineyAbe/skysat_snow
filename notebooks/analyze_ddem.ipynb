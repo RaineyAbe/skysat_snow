{
 "cells": [
  {
   "cell_type": "markdown",
   "id": "4a8c3df5-174c-48c3-9381-1c8b360ab54b",
   "metadata": {},
   "source": [
    "# Analyze dDEMs as a function of land cover type, canopy height, and terrain parameters"
   ]
  },
  {
   "cell_type": "code",
   "execution_count": null,
   "id": "45925dfc-02b1-4779-af74-8957fea82b28",
   "metadata": {},
   "outputs": [],
   "source": [
    "import os\n",
    "import matplotlib.pyplot as plt\n",
    "import rioxarray as rxr\n",
    "import xarray as xr\n",
    "import numpy as np\n",
    "import xdem\n",
    "import seaborn as sns\n",
    "import pandas as pd"
   ]
  },
  {
   "cell_type": "code",
   "execution_count": null,
   "id": "a3192139-d1f6-45f2-b8f4-86afd19772d0",
   "metadata": {},
   "outputs": [],
   "source": [
    "# pipeline inputs\n",
    "data_dir = '/Volumes/LaCie/raineyaberle/Research/PhD/Skysat-Stereo/'\n",
    "refdem_fn = os.path.join(data_dir, 'study-sites', 'MCS', 'refdem', 'MCS_REFDEM_WGS84.tif')\n",
    "chm_fn = os.path.join(data_dir, 'study-sites', 'MCS', 'refdem', 'chm_mcs_1m.tif')\n",
    "\n",
    "# pipeline outputs\n",
    "job_dir = os.path.join(data_dir, 'snow_depth_maps', 'MCS_20240420-1_reftrees_sourcetrees')\n",
    "ddem_fn = os.path.join(job_dir, 'coreg_final_diff', 'ddem.tif')\n",
    "roads_mask_fn = os.path.join(job_dir, 'land_cover_masks', 'roads_mask.tif')\n",
    "snow_mask_fn = os.path.join(job_dir, 'land_cover_masks', 'snow_mask.tif')\n",
    "ss_mask_fn = os.path.join(job_dir, 'land_cover_masks', 'stable_surfaces_mask.tif')\n",
    "trees_mask_fn = os.path.join(job_dir, 'land_cover_masks', 'trees_mask.tif')\n",
    "\n",
    "# output folder\n",
    "out_dir = os.path.join(job_dir, 'ddem_analysis')\n",
    "if not os.path.exists(out_dir):\n",
    "    os.mkdir(out_dir)\n",
    "    print('Made directory for outputs:', out_dir)"
   ]
  },
  {
   "cell_type": "markdown",
   "id": "e51a0b17-c9be-4684-8478-5e4d5bb9de3b",
   "metadata": {},
   "source": [
    "## Load reference DEM"
   ]
  },
  {
   "cell_type": "code",
   "execution_count": null,
   "id": "697e1bdb-d6f0-4447-92c1-c00d2641d935",
   "metadata": {},
   "outputs": [],
   "source": [
    "# Reference DEM\n",
    "refdem = rxr.open_rasterio(refdem_fn).squeeze()\n",
    "\n",
    "# Functioin to load and adjust other files\n",
    "def load_adjust_file(fn, refdem):\n",
    "    file = rxr.open_rasterio(fn).squeeze()\n",
    "    crs = file.rio.crs\n",
    "    file = xr.where(file==file.attrs['_FillValue'], np.nan, file)\n",
    "    file = file.sel(x=refdem.x.data, y=refdem.y.data, method='nearest')\n",
    "    file = file.rio.write_crs(crs)\n",
    "    return file\n"
   ]
  },
  {
   "cell_type": "markdown",
   "id": "45b234df-e455-431b-97cf-7e32accd17ff",
   "metadata": {},
   "source": [
    "## dDEM vs. canopy height"
   ]
  },
  {
   "cell_type": "code",
   "execution_count": null,
   "id": "2cdd4dd7-9eaa-466d-b21d-66b65426ec03",
   "metadata": {},
   "outputs": [],
   "source": [
    "# Load input files\n",
    "ddem = load_adjust_file(ddem_fn, refdem)\n",
    "chm = load_adjust_file(chm_fn, refdem)\n",
    "\n",
    "# Create pandas.DataFrame\n",
    "# df = pd.DataFrame({'dDEM': np.ravel(ddem.data),\n",
    "#                    'CHM': np.ravel(chm.data)})\n",
    "# df.dropna(inplace=True)\n",
    "# df.reset_index(drop=True, inplace=True)\n",
    "# df.loc[df['CHM'] < 0, 'CHM'] = 0\n",
    "\n",
    "# # Create bins for CHM\n",
    "# df['CHM_bin'] = pd.cut(df['CHM'], bins=np.linspace(-1,50,52))\n",
    "\n",
    "# # Plot\n",
    "# fig, ax = plt.subplots(figsize=(14,8))\n",
    "# sns.boxplot(data=df, x='CHM_bin', y='dDEM', showfliers=False, ax=ax)\n",
    "# ax.set_xticks(ax.get_xticks())\n",
    "# ax.set_xticklabels(ax.get_xticklabels(), rotation=90)\n",
    "# ax.set_ylabel('dDEM [m]')\n",
    "# ax.set_xlabel('Canopy height [m]')\n",
    "# plt.show()\n",
    "\n",
    "# # Save figure\n",
    "# fig_fn = os.path.join(out_dir, 'ddem_vs_chm.png')\n",
    "# fig.savefig(fig_fn, dpi=300, bbox_inches='tight')\n",
    "# print('Figure saved to file:', fig_fn)"
   ]
  },
  {
   "cell_type": "markdown",
   "id": "32aa9edf-4b29-4876-be98-1e588b5bc74b",
   "metadata": {
    "tags": []
   },
   "source": [
    "## Add the canopy height model back..."
   ]
  },
  {
   "cell_type": "code",
   "execution_count": null,
   "id": "c6e9e28e-305e-4422-b0c7-4b844522fa13",
   "metadata": {},
   "outputs": [],
   "source": [
    "ddem_adj = ddem.copy()\n",
    "ddem_adj.data = ddem_adj.data + chm.data\n",
    "\n",
    "fig, ax = plt.subplots(1, 2, figsize=(10,6))\n",
    "ax[0].imshow(ddem.data, cmap='coolwarm_r', clim=(-5, 5),\n",
    "             extent=(np.min(ddem.x.data)/1e3, np.max(ddem.x.data)/1e3,\n",
    "                     np.min(ddem.y.data)/1e3, np.max(ddem.y.data)/1e3))\n",
    "ax[0].set_title('dDEM')\n",
    "im = ax[1].imshow(ddem_adj.data, cmap='coolwarm_r', clim=(-5, 5),\n",
    "                  extent=(np.min(ddem.x.data)/1e3, np.max(ddem.x.data)/1e3,\n",
    "                          np.min(ddem.y.data)/1e3, np.max(ddem.y.data)/1e3))\n",
    "ax[1].set_title('dDEM + CHM')\n",
    "fig.subplots_adjust(right=0.85)\n",
    "cbar_ax = fig.add_axes([0.9, 0.2, 0.025, 0.6])\n",
    "fig.colorbar(im, cax=cbar_ax, label='Elevation difference [m]')\n",
    "plt.show()"
   ]
  },
  {
   "cell_type": "markdown",
   "id": "496132b4-65c3-4252-b078-c786b04eb0cb",
   "metadata": {},
   "source": [
    "## dDEM vs. land cover type"
   ]
  },
  {
   "cell_type": "code",
   "execution_count": null,
   "id": "045c29f7-bac7-4d71-bd63-344b6b0f5ba9",
   "metadata": {},
   "outputs": [],
   "source": [
    "# Original dDEM\n",
    "# Land cover masks\n",
    "roads_mask = load_adjust_file(roads_mask_fn, refdem)\n",
    "snow_mask = load_adjust_file(snow_mask_fn, refdem)\n",
    "ss_mask = load_adjust_file(ss_mask_fn, refdem)\n",
    "trees_mask = load_adjust_file(trees_mask_fn, refdem)\n",
    "\n",
    "# Create dataframe\n",
    "df = pd.DataFrame({'dDEM': np.ravel(ddem.data),\n",
    "                   'roads_mask': np.ravel(roads_mask.data),\n",
    "                   'snow_mask': np.ravel(snow_mask.data),\n",
    "                   'ss_mask': np.ravel(ss_mask.data),\n",
    "                   'trees_mask': np.ravel(trees_mask.data)})\n",
    "df.dropna(inplace=True)\n",
    "\n",
    "# Plot histogram\n",
    "bins = np.linspace(-10, 10, 200)\n",
    "cols = ['snow_mask', 'ss_mask', 'trees_mask', 'roads_mask'] \n",
    "colors = [(55/255, 126/255, 184/255, 1), # snow\n",
    "          (153/255, 153/255, 153/255, 1), # stable surfaces\n",
    "          (77/255, 175/255, 74/255, 1), # trees\n",
    "          (166/255, 86/255, 40/255, 1)] # roads\n",
    "fig, ax = plt.subplots(2, 2, figsize=(10,5))\n",
    "ax = ax.flatten()\n",
    "i=0\n",
    "for col, color in zip(cols, colors):\n",
    "    df_sub = df.loc[df[col]==1, 'dDEM']\n",
    "    ax[i].hist(df_sub.values, bins=bins, color=color, alpha=0.8, label=col)\n",
    "    ax[i].set_xlim(-5, 5)\n",
    "    ax[i].set_title(col.replace('ss_mask', 'stable surfaces').replace('_mask', ''))\n",
    "    i+=1\n",
    "    \n",
    "fig.tight_layout()\n",
    "plt.show()\n",
    "\n",
    "# Save figure\n",
    "fig_fn = os.path.join(out_dir, 'ddem_vs_land_cover_types.png')\n",
    "fig.savefig(fig_fn, dpi=300, bbox_inches='tight')\n",
    "print('Figure saved to file:', fig_fn)"
   ]
  },
  {
   "cell_type": "code",
   "execution_count": null,
   "id": "1fcfef71-0ba9-4440-8318-898ebfdccb22",
   "metadata": {},
   "outputs": [],
   "source": [
    "# Adjusted dDEM\n",
    "# Create dataframe\n",
    "df = pd.DataFrame({'dDEM_adj': np.ravel(ddem_adj.data),\n",
    "                   'roads_mask': np.ravel(roads_mask.data),\n",
    "                   'snow_mask': np.ravel(snow_mask.data),\n",
    "                   'ss_mask': np.ravel(ss_mask.data),\n",
    "                   'trees_mask': np.ravel(trees_mask.data)})\n",
    "df.dropna(inplace=True)\n",
    "\n",
    "# Plot histogram\n",
    "bins = np.linspace(-10, 10, 200)\n",
    "cols = ['snow_mask', 'ss_mask', 'trees_mask', 'roads_mask'] \n",
    "colors = [(55/255, 126/255, 184/255, 1), # snow\n",
    "          (153/255, 153/255, 153/255, 1), # stable surfaces\n",
    "          (77/255, 175/255, 74/255, 1), # trees\n",
    "          (166/255, 86/255, 40/255, 1)] # roads\n",
    "fig, ax = plt.subplots(2, 2, figsize=(10,5))\n",
    "ax = ax.flatten()\n",
    "i=0\n",
    "for col, color in zip(cols, colors):\n",
    "    df_sub = df.loc[df[col]==1, 'dDEM_adj']\n",
    "    ax[i].hist(df_sub.values, bins=bins, color=color, alpha=0.8, label=col)\n",
    "    ax[i].set_xlim(-5, 5)\n",
    "    ax[i].set_title(col.replace('ss_mask', 'stable surfaces').replace('_mask', ''))\n",
    "    i+=1\n",
    "    \n",
    "fig.tight_layout()\n",
    "plt.show()\n",
    "\n",
    "# Save figure\n",
    "fig_fn = os.path.join(out_dir, 'ddem+chm_vs_land_cover_types.png')\n",
    "fig.savefig(fig_fn, dpi=300, bbox_inches='tight')\n",
    "print('Figure saved to file:', fig_fn)"
   ]
  },
  {
   "cell_type": "markdown",
   "id": "0883a797-3441-441d-ba9e-5a430393fc96",
   "metadata": {},
   "source": [
    "## dDEM vs. terrain parameters"
   ]
  },
  {
   "cell_type": "code",
   "execution_count": null,
   "id": "1a44b538-fd3b-4808-847e-da25859cd8db",
   "metadata": {},
   "outputs": [],
   "source": []
  }
 ],
 "metadata": {
  "kernelspec": {
   "display_name": "snow-dems",
   "language": "python",
   "name": "snow-dems"
  },
  "language_info": {
   "codemirror_mode": {
    "name": "ipython",
    "version": 3
   },
   "file_extension": ".py",
   "mimetype": "text/x-python",
   "name": "python",
   "nbconvert_exporter": "python",
   "pygments_lexer": "ipython3",
   "version": "3.11.9"
  }
 },
 "nbformat": 4,
 "nbformat_minor": 5
}
