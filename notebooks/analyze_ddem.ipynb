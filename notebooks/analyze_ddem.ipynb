{
 "cells": [
  {
   "cell_type": "markdown",
   "id": "4a8c3df5-174c-48c3-9381-1c8b360ab54b",
   "metadata": {},
   "source": [
    "# Analyze dDEMs as a function of land cover type, canopy height, and terrain parameters"
   ]
  },
  {
   "cell_type": "code",
   "execution_count": 6,
   "id": "45925dfc-02b1-4779-af74-8957fea82b28",
   "metadata": {},
   "outputs": [],
   "source": [
    "import os\n",
    "import matplotlib.pyplot as plt\n",
    "import xdem \n",
    "import geoutils as gu"
   ]
  },
  {
   "cell_type": "code",
   "execution_count": null,
   "id": "a3192139-d1f6-45f2-b8f4-86afd19772d0",
   "metadata": {},
   "outputs": [],
   "source": [
    "# pipeline outputs\n",
    "job_dir = '/Volumes/LaCie/raineyaberle/Research/PhD/Skysat-Stereo/study-sites/MCS/20240420/skysat_snow'\n",
    "ddem_fn = os.path.join(job_dir, 'final_align', 'final_dDEM.tif')\n",
    "ref_dem_fn = os.path.join(job_dir, 'refdem_EPSG32611.tif')\n",
    "roads_mask_fn = os.path.join(job_dir, 'land_cover_masks', 'roads_mask.tif')\n",
    "snow_mask_fn = os.path.join(job_dir, 'land_cover_masks', 'snow_mask.tif')\n",
    "ss_mask_fn = os.path.join(job_dir, 'land_cover_masks', 'stable_surfaces_mask.tif')\n",
    "trees_mask_fn = os.path.join(job_dir, 'land_cover_masks', 'trees_mask.tif')\n",
    "\n",
    "# output folder\n",
    "out_dir = os.path.join(job_dir, 'ddem_analysis')\n",
    "if not os.path.exists(out_dir):\n",
    "    os.mkdir(out_dir)\n",
    "    print('Made directory for outputs:', out_dir)"
   ]
  },
  {
   "cell_type": "markdown",
   "id": "e51a0b17-c9be-4684-8478-5e4d5bb9de3b",
   "metadata": {},
   "source": [
    "## Load dDEM and reference DEM"
   ]
  },
  {
   "cell_type": "code",
   "execution_count": 8,
   "id": "697e1bdb-d6f0-4447-92c1-c00d2641d935",
   "metadata": {},
   "outputs": [],
   "source": [
    "ddem = xdem.DEM(ddem_fn)\n",
    "refdem = xdem.DEM(ref_dem_fn)\n",
    "refdem = refdem.reproject(ddem)"
   ]
  },
  {
   "cell_type": "markdown",
   "id": "496132b4-65c3-4252-b078-c786b04eb0cb",
   "metadata": {},
   "source": [
    "## dDEM vs. land cover type"
   ]
  },
  {
   "cell_type": "code",
   "execution_count": null,
   "id": "045c29f7-bac7-4d71-bd63-344b6b0f5ba9",
   "metadata": {},
   "outputs": [],
   "source": [
    "fig_fn = os.path.join(out_dir, 'ddem_vs_land_cover_types.png')\n",
    "plt.rcParams.update({'font.sans-serif': 'Arial', 'font.size': 12})\n",
    "\n",
    "if not os.path.exists(fig_fn):\n",
    "    # Load land cover masks\n",
    "    roads_mask = gu.Raster(roads_mask_fn, load_data=True)\n",
    "    roads_mask = roads_mask.reproject(ddem)\n",
    "    snow_mask = gu.Raster(snow_mask_fn, load_data=True)\n",
    "    snow_mask = snow_mask.reproject(ddem)\n",
    "    ss_mask = gu.Raster(ss_mask_fn, load_data=True)\n",
    "    ss_mask = ss_mask.reproject(ddem)\n",
    "    trees_mask = gu.Raster(trees_mask_fn, load_data=True)\n",
    "    trees_mask = trees_mask.reproject(ddem)\n",
    "\n",
    "    # Create dataframe\n",
    "    df = pd.DataFrame({'dDEM': ddem.data.ravel(),\n",
    "                       'roads_mask': roads_mask.data.ravel(),\n",
    "                       'snow_mask': snow_mask.data.ravel(),\n",
    "                       'ss_mask': ss_mask.data.ravel(),\n",
    "                       'trees_mask': trees_mask.data.ravel()})\n",
    "    df.dropna(inplace=True)\n",
    "\n",
    "    # Plot histogram\n",
    "    bins = np.linspace(-10, 10, 200)\n",
    "    cols = ['snow_mask', 'ss_mask', 'trees_mask', 'roads_mask'] \n",
    "    colors = [(55/255, 126/255, 184/255, 1), # snow\n",
    "              (153/255, 153/255, 153/255, 1), # stable surfaces\n",
    "              (77/255, 175/255, 74/255, 1), # trees\n",
    "              (166/255, 86/255, 40/255, 1)] # roads\n",
    "    fig, ax = plt.subplots(2, 2, figsize=(10,5))\n",
    "    ax = ax.flatten()\n",
    "    i=0\n",
    "    for col, color in zip(cols, colors):\n",
    "        df_sub = df.loc[df[col]==1, 'dDEM']\n",
    "        ax[i].hist(df_sub.values, bins=bins, color=color, alpha=0.8, label=col)\n",
    "        ax[i].set_xlim(-5, 5)\n",
    "        ax[i].set_title(col.replace('ss_mask', 'stable surfaces').replace('_mask', ''))\n",
    "        i+=1\n",
    "\n",
    "    fig.tight_layout()\n",
    "    plt.show()\n",
    "\n",
    "    # Save figure\n",
    "    fig.savefig(fig_fn, dpi=300, bbox_inches='tight')\n",
    "    print('Figure saved to file:', fig_fn)\n",
    "    \n",
    "else:\n",
    "    print('Figure already exists, skipping.')"
   ]
  },
  {
   "cell_type": "markdown",
   "id": "0883a797-3441-441d-ba9e-5a430393fc96",
   "metadata": {},
   "source": [
    "## dDEM vs. terrain parameters"
   ]
  },
  {
   "cell_type": "code",
   "execution_count": null,
   "id": "1a44b538-fd3b-4808-847e-da25859cd8db",
   "metadata": {
    "scrolled": true,
    "tags": []
   },
   "outputs": [],
   "source": [
    "fig_fn = os.path.join(out_dir, 'ddem_vs_terrain_parameters.png')\n",
    "\n",
    "if not os.path.exists(fig_fn):\n",
    "    \n",
    "    # Calculate terrain parameters from reference DEM\n",
    "    slope = refdem.slope()\n",
    "    aspect = refdem.aspect()\n",
    "    # Compile all stats into dataframe\n",
    "    terrain_cols = ['elevation', 'slope', 'aspect']\n",
    "    stats_df = pd.DataFrame(columns=terrain_cols + ['dDEM'])\n",
    "    for raster, col in zip([refdem, slope, aspect], terrain_cols):\n",
    "        stats_df[col] = raster.data.ravel()\n",
    "        # Create bins for column\n",
    "        stats_df[col + '_bin'] = pd.cut(stats_df[col], bins=25, precision=0)\n",
    "    stats_df['dDEM'] = ddem.data.ravel() \n",
    "    stats_df.dropna(inplace=True)\n",
    "    stats_df.reset_index(drop=True, inplace=True)\n",
    "    \n",
    "    # Plot\n",
    "    fig, ax = plt.subplots(1,3, figsize=(16,6))\n",
    "    for i, col in enumerate(terrain_cols):\n",
    "        sns.boxplot(stats_df, x=col + '_bin', y='dDEM', showfliers=False, ax=ax[i])\n",
    "        ax[i].set_title(col)\n",
    "        if i==0:\n",
    "            ax[i].set_ylabel('dDEM [m]')\n",
    "        ax[i].set_xlabel(col)\n",
    "        ax[i].set_xticklabels(ax[i].get_xticklabels(), rotation=90)\n",
    "        ax[i].axhline(0, color='k')\n",
    "    fig.tight_layout()\n",
    "    plt.show()\n",
    "    # Save figure\n",
    "    fig.savefig(fig_fn, dpi=300, bbox_inches='tight')\n",
    "    print('Figure saved to file:', fig_fn)\n",
    "    \n",
    "else:\n",
    "    print('Figure already exists, skipping.')"
   ]
  },
  {
   "cell_type": "code",
   "execution_count": null,
   "id": "e36b0227-5b70-44d5-8c39-ed692c607889",
   "metadata": {},
   "outputs": [],
   "source": [
    "# Plot SNOTEL\n",
    "snotel_fn = os.path.join(job_dir, '..', '..', 'snotel', 'MCS_2020-01-01_2024-06-07_adj.csv')\n",
    "snotel = pd.read_csv(snotel_fn)\n",
    "snotel['datetime'] = pd.to_datetime(snotel['datetime'])\n",
    "\n",
    "fig = plt.figure(figsize=(8,6))\n",
    "plt.plot(snotel['datetime'], snotel['SWE_m'], '-', color='purple', label='SWE')\n",
    "plt.plot(snotel['datetime'], snotel['SNWD_m'], '-', color='blue', label='Snow depth')\n",
    "plt.axvline(np.datetime64('2024-04-20'), color='k', linestyle='--', markersize=15, label='SkySat date')\n",
    "skysat_sd = snotel.loc[snotel['datetime'].dt.date == np.datetime64('2024-04-20'), 'SNWD_m'].values[0]\n",
    "plt.text(np.datetime64('2024-04-15'), 2.6, f'Snow depth = {np.round(skysat_sd, 3)} m', ha='right')\n",
    "plt.xlim(np.datetime64('2023-11-01'), np.datetime64('2024-07-01'))\n",
    "plt.ylabel('meters')\n",
    "plt.grid()\n",
    "plt.legend(loc='best')\n",
    "plt.show()\n",
    "\n",
    "# fig_fn = os.path.join(data_dir, '..', 'snotel', 'SNWD_SWE_timeseries.png')\n",
    "# fig.savefig(fig_fn, dpi=300, bbox_inches='tight')\n",
    "# print('Figure saved to file:', fig_fn)"
   ]
  },
  {
   "cell_type": "code",
   "execution_count": null,
   "id": "65ec446c-fbe1-4ef6-a532-1b9a466f427c",
   "metadata": {},
   "outputs": [],
   "source": [
    "# Plot SNOTEL location on orthoimage\n",
    "from shapely.wkt import loads\n",
    "\n",
    "ortho_fn = os.path.join(job_dir, '..', 'MCS_20240420_4band_mosaic.tif')\n",
    "ortho = xr.open_dataset(ortho_fn)\n",
    "crs = ortho.rio.crs\n",
    "ortho = xr.where(ortho==0, np.nan, ortho / 1e4)\n",
    "ortho = ortho.rio.write_crs(crs)\n",
    "snotel_info_fn = os.path.join(job_dir, '..', '..', 'snotel', 'MCS_SNOTEL_site_info.csv')\n",
    "snotel_info = pd.read_csv(snotel_info_fn)\n",
    "snotel_info['geometry'] = snotel_info['geometry'].apply(loads)\n",
    "snotel_info = gpd.GeoDataFrame(snotel_info, geometry='geometry', crs='EPSG:4326')\n",
    "snotel_info = snotel_info.to_crs(ortho.rio.crs)\n",
    "\n",
    "fig = plt.figure(figsize=(6,6))\n",
    "plt.imshow(np.dstack([ortho.isel(band=2).band_data.data, \n",
    "                      ortho.isel(band=1).band_data.data, \n",
    "                      ortho.isel(band=0).band_data.data]) * 0.5,\n",
    "           extent=(np.min(ortho.x)/1e3, np.max(ortho.x)/1e3, \n",
    "                   np.min(ortho.y)/1e3, np.max(ortho.y)/1e3))\n",
    "plt.plot(snotel_info.geometry[0].coords.xy[0][0]/1e3, \n",
    "         snotel_info.geometry[0].coords.xy[1][0]/1e3, '*', \n",
    "         markerfacecolor='yellow', markeredgecolor='k', markersize=30)\n",
    "plt.xlabel('Easting [km]')\n",
    "plt.ylabel('Northing [km]')\n",
    "plt.show()\n",
    "\n",
    "fig_fn = snotel_info_fn.replace('.csv', '.png')\n",
    "fig.savefig(fig_fn, dpi=300, bbox_inches='tight')\n",
    "print('Figure saved to file:', fig_fn)"
   ]
  },
  {
   "cell_type": "code",
   "execution_count": null,
   "id": "86c12d1d-8d52-492c-ac60-bda355dc7558",
   "metadata": {},
   "outputs": [],
   "source": []
  }
 ],
 "metadata": {
  "kernelspec": {
   "display_name": "skysat_snow_env",
   "language": "python",
   "name": "python3"
  },
  "language_info": {
   "codemirror_mode": {
    "name": "ipython",
    "version": 3
   },
   "file_extension": ".py",
   "mimetype": "text/x-python",
   "name": "python",
   "nbconvert_exporter": "python",
   "pygments_lexer": "ipython3",
   "version": "3.11.10"
  }
 },
 "nbformat": 4,
 "nbformat_minor": 5
}
