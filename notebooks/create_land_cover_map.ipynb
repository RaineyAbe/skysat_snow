{
 "cells": [
  {
   "cell_type": "markdown",
   "id": "450cf742-9efe-4934-b39b-ec27bc70b5cb",
   "metadata": {},
   "source": [
    "# Create land cover classes from 4-band orthomosaic"
   ]
  },
  {
   "cell_type": "code",
   "execution_count": null,
   "id": "3aaa9f9e-88ff-4637-9564-2f74fa657de6",
   "metadata": {},
   "outputs": [],
   "source": [
    "import os\n",
    "import rioxarray as rxr\n",
    "import xarray as xr\n",
    "import rasterio as rio\n",
    "import matplotlib.pyplot as plt\n",
    "import matplotlib\n",
    "import numpy as np\n",
    "import geopandas as gpd"
   ]
  },
  {
   "cell_type": "code",
   "execution_count": null,
   "id": "8f4f510f-7152-43b7-8d2c-a64c79a8e779",
   "metadata": {},
   "outputs": [],
   "source": [
    "data_dir = '/Volumes/LaCie/raineyaberle/Research/PhD/SkySat-Stereo/study-sites/MCS'\n",
    "ortho_fn = os.path.join(data_dir, '20240420', 'MCS_20240420-1_4band_orthomosaic.tif')\n",
    "roads_vector_fn = os.path.join(data_dir, 'roads', 'MCS_roads_polygon.shp')\n",
    "masks_fn = os.path.join(data_dir, '20240420', 'MCS_20240420-1_masks.tif')\n",
    "\n",
    "# Load orthomosaic \n",
    "ortho_rxr = rxr.open_rasterio(ortho_fn)\n",
    "# rearrange ortho to have separate bands\n",
    "band_names = ['blue', 'green', 'red', 'NIR']\n",
    "ortho = xr.Dataset(coords=dict(y=ortho_rxr.y.data, x=ortho_rxr.x.data))\n",
    "for i, band_name in enumerate(band_names):\n",
    "    ortho[band_name] = (('y', 'x'), ortho_rxr.data[i,:])\n",
    "ortho = xr.where(ortho==0, np.nan, ortho / 1e4)\n",
    "ortho = ortho.rio.write_crs(ortho_rxr.rio.crs)\n",
    "\n",
    "# Load roads vector\n",
    "roads_vector = gpd.read_file(roads_vector_fn)"
   ]
  },
  {
   "cell_type": "code",
   "execution_count": null,
   "id": "57434d49-fc01-4cd8-ba4b-19ca63674e86",
   "metadata": {},
   "outputs": [],
   "source": [
    "# Classify trees and other vegetation using NDVI\n",
    "ndvi = (ortho.NIR - ortho.green) / (ortho.NIR + ortho.green)\n",
    "ndvi.data[ortho.green==0] = np.nan\n",
    "ndvi_threshold = 0.1\n",
    "trees_mask = (ndvi >= ndvi_threshold).astype(int)\n",
    "\n",
    "# Convert roads to rasterized mask\n",
    "roads_mask = ortho.blue.rio.clip(roads_vector.geometry.values, roads_vector.crs, drop=False)\n",
    "roads_mask.data[ortho.green==0] = np.nan\n",
    "roads_mask = xr.where(np.isnan(roads_mask), 0, 1)\n",
    "\n",
    "# Classify snow using the NDSI\n",
    "ndsi = (ortho.red - ortho.NIR) / (ortho.red + ortho.NIR)\n",
    "ndsi.data[ortho.green==0] = np.nan\n",
    "ndsi_threshold = 0.1\n",
    "snow_mask = ((ndsi >= ndsi_threshold) & (trees_mask==0) & (roads_mask==0)).astype(int)\n",
    "\n",
    "# Create stable surfaces mask (unclassified + roads)\n",
    "ss_mask = ((snow_mask==0) & (trees_mask==0)).astype(int)\n",
    "\n",
    "\n",
    "# Combine into one dataset\n",
    "# masks = xr.Dataset(data_vars=dict(trees_mask=(('y', 'x'), trees_mask.data, \n",
    "#                                               {'Description': 'Constructed by thresholding the NDVI of the orthomosaic image',\n",
    "#                                                'NDVI threshold': f'{ndvi_threshold}'}),\n",
    "#                                   roads_mask=(('y', 'x'), roads_mask.data, \n",
    "#                                               {'Description': 'Constructed from the Source, buffered, rasterized, and interpolated to the orthomosaic image grid.',\n",
    "#                                                'Source': 'U.S. Geological Survey National Transportation Dataset for Idaho (published 20240215) Shapefile: https://www.sciencebase.gov/catalog/item/5a5f36bfe4b06e28e9bfc1be'}),\n",
    "#                                   snow_mask=(('y', 'x'), snow_mask.data, \n",
    "#                                              {'Description': 'Constructed by thresholding the NDSI of the orthomosaic image',\n",
    "#                                               'NDSI bands': 'red, NIR',\n",
    "#                                               'NDSI threshold': f'{ndsi_threshold}'}),\n",
    "#                                   stable_surfaces_mask=(('y', 'x'), ss_mask.data, {'Description': 'Stable surfaces include all road-covered, snow-free, and tree-free surfaces according to the trees_mask, snow_mask, and roads_mask data variables.'})),\n",
    "#                    coords=ortho.coords)\n",
    "\n",
    "# Plot\n",
    "plt.rcParams.update({'font.size': 12, 'font.sans-serif': 'Arial'})\n",
    "fig, ax = plt.subplots(2, 1, figsize=(8,16))\n",
    "ax[0].imshow(np.dstack([ortho.red, ortho.green, ortho.blue]) * 0.5, \n",
    "             extent=(np.min(ortho.x.data)/1e3, np.max(ortho.x.data)/1e3,\n",
    "                     np.min(ortho.y.data)/1e3, np.max(ortho.y.data)/1e3))\n",
    "ax[0].set_title('RGB orthoimage')\n",
    "xmin, xmax = ax[0].get_xlim()\n",
    "ymin, ymax = ax[0].get_ylim()\n",
    "# Iterate over masks\n",
    "colors = [(77/255, 175/255, 74/255, 1), # trees\n",
    "          (55/255, 126/255, 184/255, 1), # snow\n",
    "          (166/255, 86/255, 40/255, 1)] # roads\n",
    "for color, mask, mask_name in zip(colors, \n",
    "                                  [trees_mask, snow_mask, roads_mask], \n",
    "                                  ['trees mask', 'snow mask', 'roads mask']):\n",
    "    cmap = matplotlib.colors.ListedColormap([(1,1,1,0), color])\n",
    "    ax[1].imshow(masks[band].data, cmap=cmap, clim=(0,1),\n",
    "                 extent=(np.min(ortho.x.data)/1e3, np.max(ortho.x.data)/1e3,\n",
    "                     np.min(ortho.y.data)/1e3, np.max(ortho.y.data)/1e3))\n",
    "    # plot dummy point for legend\n",
    "    ax[1].plot(0, 0, 's', color=color, markersize=5, label=band)\n",
    "ax[1].set_title('Land cover masks')\n",
    "# reset axes limits\n",
    "ax[1].set_xlim(xmin, xmax)\n",
    "ax[1].set_ylim(ymin, ymax)\n",
    "ax[1].legend(loc='lower right', markerscale=2)\n",
    "fig.tight_layout()\n",
    "plt.show()\n",
    "\n",
    "# Save to file\n",
    "masks = xr.where(np.isnan(ortho.green), -9999, masks)\n",
    "masks = masks.astype(np.int16)\n",
    "masks = masks.assign_attrs({'_FillValue': -9999})\n",
    "masks = masks.rio.write_crs(ortho_rxr.rio.crs)\n",
    "masks.rio.to_raster(masks_fn)\n",
    "print('Masks saved to file:', masks_fn)\n",
    "fig_fn = masks_fn.replace('.tif', '.png')\n",
    "fig.savefig(fig_fn, dpi=300, bbox_inches='tight')\n",
    "print('Figure saved to file:', fig_fn)"
   ]
  },
  {
   "cell_type": "code",
   "execution_count": null,
   "id": "09567956-b04c-4f55-a06d-4416391195ac",
   "metadata": {},
   "outputs": [],
   "source": [
    "trees_mask"
   ]
  },
  {
   "cell_type": "code",
   "execution_count": null,
   "id": "ce58dd6c-5b54-4b4b-9e55-2f8bae46a603",
   "metadata": {},
   "outputs": [],
   "source": []
  }
 ],
 "metadata": {
  "kernelspec": {
   "display_name": "snow-dems",
   "language": "python",
   "name": "snow-dems"
  },
  "language_info": {
   "codemirror_mode": {
    "name": "ipython",
    "version": 3
   },
   "file_extension": ".py",
   "mimetype": "text/x-python",
   "name": "python",
   "nbconvert_exporter": "python",
   "pygments_lexer": "ipython3",
   "version": "3.11.9"
  }
 },
 "nbformat": 4,
 "nbformat_minor": 5
}
