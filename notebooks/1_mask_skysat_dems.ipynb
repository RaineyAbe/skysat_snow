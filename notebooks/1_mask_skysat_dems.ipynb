{
 "cells": [
  {
   "cell_type": "markdown",
   "id": "b949edda-ebe1-484e-a0b6-63ed75784ebe",
   "metadata": {},
   "source": [
    "# Mask SkySat DEMs"
   ]
  },
  {
   "cell_type": "code",
   "execution_count": null,
   "id": "e758cdab-9607-4d40-999d-40e32a9b23bf",
   "metadata": {},
   "outputs": [],
   "source": [
    "import xarray as xr\n",
    "import rioxarray as rxr\n",
    "import matplotlib.pyplot as plt\n",
    "import matplotlib\n",
    "import numpy as np\n",
    "import os, glob\n",
    "from scipy.stats import iqr"
   ]
  },
  {
   "cell_type": "markdown",
   "id": "9763f736-4f2c-4278-87df-f8ca26c357d3",
   "metadata": {},
   "source": [
    "## Define paths to data files"
   ]
  },
  {
   "cell_type": "code",
   "execution_count": null,
   "id": "caea2c69-bd45-47e1-9f56-f7c2d06f5bb8",
   "metadata": {},
   "outputs": [],
   "source": [
    "# Input file names\n",
    "site_name = 'MCS'\n",
    "dem_date = '20240420'\n",
    "data_path = f'/Volumes/LaCie/raineyaberle/Research/PhD/SkySat-Stereo/study-sites/{site_name}/{dem_date}'\n",
    "ortho_fn = os.path.join(data_path, f'{site_name}_{dem_date}-1_orthomosaic.tif')\n",
    "dem_fn = os.path.join(data_path, f'{site_name}_{dem_date}-1_DEM.tif')\n",
    "nmad_fn = os.path.join(data_path, f'{site_name}_{dem_date}-1_nmad_mos.tif')\n",
    "\n",
    "# Masked DEM (output) file name\n",
    "dem_masked_fn = dem_fn.replace('.tif', '_masked.tif')\n",
    "\n",
    "for fn in [dem_fn, nmad_fn, ortho_fn]:\n",
    "    if not os.path.exists(fn):\n",
    "        print('File does not exist, check name:', fn)"
   ]
  },
  {
   "cell_type": "markdown",
   "id": "49085a86-fd68-4d49-bf6b-a4d25d030dcd",
   "metadata": {},
   "source": [
    "## Load DEM, NMAD, and orthomosaic"
   ]
  },
  {
   "cell_type": "code",
   "execution_count": null,
   "id": "6ae25691-1da9-46e1-9b7b-56185e246fad",
   "metadata": {},
   "outputs": [],
   "source": [
    "# Load files\n",
    "ortho = rxr.open_rasterio(ortho_fn)\n",
    "ortho = xr.where(ortho==ortho._FillValue, np.nan, ortho)\n",
    "dem = rxr.open_rasterio(dem_fn)\n",
    "dem_crs = dem.rio.crs\n",
    "dem = xr.where(dem==dem._FillValue, np.nan, dem)\n",
    "nmad = rxr.open_rasterio(nmad_fn)\n",
    "nmad = xr.where(nmad==nmad._FillValue, np.nan, nmad)\n",
    "\n",
    "# Plot\n",
    "cbar_shrink = 0.8\n",
    "fig, ax = plt.subplots(2, 2, figsize=(10,10))\n",
    "ax = ax.flatten()\n",
    "# orthoimage\n",
    "ortho_im = ax[0].imshow(ortho.data[0], cmap='Greys_r', \n",
    "                        extent=(np.min(ortho.x.data)/1e3, np.max(ortho.x.data)/1e3, \n",
    "                                np.min(ortho.y.data)/1e3, np.max(ortho.y.data)/1e3))\n",
    "fig.colorbar(ortho_im, ax=ax[0], shrink=cbar_shrink, label='Reflectance')\n",
    "# DEM\n",
    "ls = matplotlib.colors.LightSource(azdeg=315, altdeg=45)\n",
    "dem_im = ax[1].imshow(dem.data[0], cmap='terrain',\n",
    "                      extent=(np.min(dem.x.data)/1e3, np.max(dem.x.data)/1e3, \n",
    "                              np.min(dem.y.data)/1e3, np.max(dem.y.data)/1e3))\n",
    "fig.colorbar(dem_im, ax=ax[1], shrink=cbar_shrink, label='Elevation [m]')\n",
    "# NMAD\n",
    "nmad_im = ax[2].imshow(nmad.data[0], cmap='Reds', \n",
    "                       extent=(np.min(nmad.x.data)/1e3, np.max(nmad.x.data)/1e3, \n",
    "                               np.min(nmad.y.data)/1e3, np.max(nmad.y.data)/1e3))\n",
    "fig.colorbar(nmad_im, ax=ax[2], shrink=cbar_shrink, label='NMAD [m]')\n",
    "ax[3].hist(np.ravel(nmad.data), bins=100)\n",
    "ax[3].set_title('NMAD [m]')\n",
    "\n",
    "fig.tight_layout()\n",
    "plt.show()"
   ]
  },
  {
   "cell_type": "markdown",
   "id": "36389985-61f7-42ae-a3a3-1d5716b00ff3",
   "metadata": {},
   "source": [
    "## NMAD\n",
    "\n",
    "### Test some methods for selecting a threshold value"
   ]
  },
  {
   "cell_type": "code",
   "execution_count": null,
   "id": "8cffafee-cebc-4d48-af74-e0302f2d3efa",
   "metadata": {},
   "outputs": [],
   "source": [
    "# Interpolate DEM to NMAD coordinates\n",
    "dem_interp = dem.interp(x=nmad.x, y=nmad.y, method='nearest')\n",
    "\n",
    "cmap = matplotlib.colors.LinearSegmentedColormap.from_list(\"Custom\", ['w','#67000d'])\n",
    "\n",
    "# Define thresholds\n",
    "thresholds = [[1.5 * iqr(np.ravel(nmad.data), nan_policy='omit'), '1.5 x IQR(NMAD)'],\n",
    "              [np.nanpercentile(np.ravel(nmad.data), 95), 'P$_{95}$(NMAD)'],\n",
    "              [np.nanpercentile(np.ravel(nmad.data), 99), 'P$_{99}$(NMAD)'],\n",
    "              [1, 'value'],\n",
    "              [5, 'value'],\n",
    "              [10, 'value'],\n",
    "              [20, 'value']\n",
    "             ]\n",
    "                   \n",
    "# Iterate over thresholds\n",
    "for thresh, thresh_name in thresholds:\n",
    "    mask = xr.where(nmad >= thresh, 1, 0)\n",
    "    dem_interp_masked = xr.where(mask == 1, np.nan, dem_interp)\n",
    "    # plot\n",
    "    fig, ax = plt.subplots(1, 2, figsize=(12,5))\n",
    "    nmad.plot(cmap=cmap, vmin=0, vmax=thresh, ax=ax[0])\n",
    "    ax[0].set_title('NMAD')\n",
    "    dem_interp_masked.plot(cmap='terrain', ax=ax[1])\n",
    "    ax[1].set_title('DEM')\n",
    "    fig.suptitle(f\"Mask NMAD >= {thresh_name} ({np.round(thresh, 2)})\")\n",
    "    fig.tight_layout()\n",
    "    plt.show()\n"
   ]
  },
  {
   "cell_type": "markdown",
   "id": "e6ee2919-7823-498c-8b06-1fc25f425b1c",
   "metadata": {},
   "source": [
    "### Apply threshold"
   ]
  },
  {
   "cell_type": "code",
   "execution_count": null,
   "id": "9688ad26-8518-494e-a68a-11cc91dd3c69",
   "metadata": {},
   "outputs": [],
   "source": [
    "# Apply threshold\n",
    "nmad_thresh = 2\n",
    "mask = xr.where(nmad >= nmad_thresh, 1, 0)\n",
    "dem_interp_masked = xr.where(mask == 1, np.nan, dem_interp)\n",
    "\n",
    "# Write CRS\n",
    "dem_interp_masked = dem_interp_masked.rio.write_crs(dem_crs)\n",
    "\n",
    "# Plot\n",
    "fig, ax = plt.subplots(1, 2, figsize=(12,6))\n",
    "thresh_im = nmad.plot(cmap=cmap, vmin=0, vmax=nmad_thresh, ax=ax[0])\n",
    "dem_im = dem_interp_masked.plot(cmap='terrain', ax=ax[1])\n",
    "for axis in ax:\n",
    "    axis.set_xticks(axis.get_xticks())\n",
    "    axis.set_xticklabels(np.divide(axis.get_xticks(), 1e3).astype(str))\n",
    "    axis.set_yticks(axis.get_yticks())\n",
    "    axis.set_yticklabels(np.divide(axis.get_yticks(), 1e3).astype(str))\n",
    "ax[0].set_xlabel('Easting [km]')\n",
    "ax[0].set_ylabel('Northing [km]')\n",
    "ax[1].set_xlabel('Easting [km]')\n",
    "ax[1].set_ylabel('')\n",
    "ax[0].set_title('NMAD')\n",
    "ax[1].set_title('Masked DEM')\n",
    "fig.suptitle(f\"Mask NMAD >= {np.round(nmad_thresh, 2)}\")\n",
    "fig.tight_layout()\n",
    "plt.show()\n"
   ]
  },
  {
   "cell_type": "markdown",
   "id": "c5019961-a81e-4ba2-a937-acc5bbbef7b1",
   "metadata": {},
   "source": [
    "## Vegetation\n",
    "\n",
    "### Test some difference reflectance value thresholds"
   ]
  },
  {
   "cell_type": "code",
   "execution_count": null,
   "id": "aa70f972-7b44-496a-83c7-ea18a7ad4486",
   "metadata": {},
   "outputs": [],
   "source": [
    "# Interpolate DEM to orthomosaic coordinates\n",
    "dem_interp_masked_interp = dem_interp_masked.interp(x=ortho.x, y=ortho.y, method='nearest')\n",
    "\n",
    "cmap = matplotlib.colors.LinearSegmentedColormap.from_list(\"Custom\", ['#67000d', 'w'])\n",
    "\n",
    "# Define thresholds\n",
    "thresholds = [[5e3, 'value'],\n",
    "              [8e3, 'value'],\n",
    "              [10e3, 'value'],\n",
    "             ]\n",
    "                   \n",
    "# Iterate over thresholds\n",
    "for thresh, thresh_name in thresholds:\n",
    "    mask = xr.where(ortho <= thresh, 1, 0)\n",
    "    dem_interp_masked_interp_masked = xr.where(mask == 1, np.nan, dem_interp_masked_interp)\n",
    "    # plot\n",
    "    fig, ax = plt.subplots(1, 2, figsize=(12,5))\n",
    "    ortho.plot(cmap=cmap, vmin=thresh, vmax=40e3, ax=ax[0])\n",
    "    ax[0].set_title('Orthomosaic value')\n",
    "    dem_interp_masked_interp_masked.plot(cmap='terrain', ax=ax[1])\n",
    "    ax[1].set_title('DEM')\n",
    "    fig.suptitle(f\"Mask orthomosaic <= {thresh_name} ({np.round(thresh, 2)})\")\n",
    "    fig.tight_layout()\n",
    "    plt.show()\n"
   ]
  },
  {
   "cell_type": "markdown",
   "id": "91a9f23c-dd20-485d-86b8-8c61fa7acad4",
   "metadata": {},
   "source": [
    "### Apply threshold"
   ]
  },
  {
   "cell_type": "code",
   "execution_count": null,
   "id": "6a504e33-2e69-4a83-9273-bc58e66e2c13",
   "metadata": {},
   "outputs": [],
   "source": [
    "# Apply threshold\n",
    "refl_thresh = 10e3\n",
    "mask = xr.where(ortho <= refl_thresh, 1, 0)\n",
    "dem_interp_masked_interp_masked = xr.where(mask == 1, np.nan, dem_interp_masked_interp)\n",
    "\n",
    "# Write CRS\n",
    "dem_interp_masked_interp_masked = dem_interp_masked_interp_masked.rio.write_crs(dem_crs)\n",
    "\n",
    "# Plot\n",
    "fig, ax = plt.subplots(1, 2, figsize=(12,6))\n",
    "thresh_im = ortho.plot(cmap=cmap, vmin=refl_thresh, vmax=4e3, ax=ax[0])\n",
    "dem_im = dem_interp_masked_interp_masked.plot(cmap='terrain', ax=ax[1])\n",
    "for axis in ax:\n",
    "    axis.set_xticks(axis.get_xticks())\n",
    "    axis.set_xticklabels(np.divide(axis.get_xticks(), 1e3).astype(str))\n",
    "    axis.set_yticks(axis.get_yticks())\n",
    "    axis.set_yticklabels(np.divide(axis.get_yticks(), 1e3).astype(str))\n",
    "ax[0].set_xlabel('Easting [km]')\n",
    "ax[0].set_ylabel('Northing [km]')\n",
    "ax[1].set_xlabel('Easting [km]')\n",
    "ax[1].set_ylabel('')\n",
    "ax[0].set_title('Orthomosaic')\n",
    "ax[1].set_title('Masked DEM')\n",
    "fig.suptitle(f\"Mask ortho <= {np.round(refl_thresh, 2)}\")\n",
    "fig.tight_layout()\n",
    "plt.show()\n"
   ]
  },
  {
   "cell_type": "markdown",
   "id": "5cea0be0-7a32-4e3f-b9dd-84ed3e0f37ef",
   "metadata": {},
   "source": [
    "## Save masked DEM to file"
   ]
  },
  {
   "cell_type": "code",
   "execution_count": null,
   "id": "a278fcdc-b1f6-4893-a3a6-d7999589c697",
   "metadata": {},
   "outputs": [],
   "source": [
    "# Save to file\n",
    "dem_masked_fn = dem_fn.replace('.tif', f'_masked-NMAD{int(nmad_thresh)}m-refl{int(refl_thresh)}.tif')\n",
    "dem_interp_masked_interp_masked.rio.to_raster(dem_masked_fn)\n",
    "print('Masked DEM saved to file:', dem_masked_fn)"
   ]
  },
  {
   "cell_type": "code",
   "execution_count": null,
   "id": "f94c4352-73fb-45b4-9c3f-2f1fc9f1dc4b",
   "metadata": {},
   "outputs": [],
   "source": []
  }
 ],
 "metadata": {
  "kernelspec": {
   "display_name": "snow-dems",
   "language": "python",
   "name": "snow-dems"
  },
  "language_info": {
   "codemirror_mode": {
    "name": "ipython",
    "version": 3
   },
   "file_extension": ".py",
   "mimetype": "text/x-python",
   "name": "python",
   "nbconvert_exporter": "python",
   "pygments_lexer": "ipython3",
   "version": "3.11.9"
  }
 },
 "nbformat": 4,
 "nbformat_minor": 5
}
