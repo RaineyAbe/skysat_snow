{
 "cells": [
  {
   "cell_type": "markdown",
   "metadata": {},
   "source": [
    "# Coregister SkySat DEMs to the a reference DEM"
   ]
  },
  {
   "cell_type": "code",
   "execution_count": 1,
   "metadata": {},
   "outputs": [],
   "source": [
    "import xdem\n",
    "import geoutils as gu\n",
    "import os\n",
    "import matplotlib.pyplot as plt\n",
    "import numpy as np"
   ]
  },
  {
   "cell_type": "code",
   "execution_count": null,
   "metadata": {},
   "outputs": [],
   "source": [
    "# Define paths to input files\n",
    "date = '20211010'\n",
    "tba_dem_fn = f'/Volumes/LaCie/raineyaberle/Research/PhD/SkySat-Stereo/study-sites/SitKusa/{date}/SitKusa_{date}_DEM.tif'\n",
    "ref_dem_fn = '/Volumes/LaCie/raineyaberle/Research/PhD/Skysat-Stereo/study-sites/SitKusa/refdem/SitKusa_ArcticDEM_buffer30km_filled.tif'\n",
    "glacier_outlines_fn = '/Volumes/LaCie/raineyaberle/Research/PhD/SkySat-Stereo/study-sites/SitKusa/glacier_boundaries/SitKusa_boundaries_RGIv6.shp'   \n",
    "out_fn = os.path.join(tba_dem_fn.replace('.tif', '_deramped_coregistered.tif'))\n",
    "\n",
    "# Load input files\n",
    "ref_dem = xdem.DEM(ref_dem_fn)\n",
    "tba_dem = xdem.DEM(tba_dem_fn)\n",
    "# Clip reference DEM to tba_dem bounds + 1 km\n",
    "clip_geom = [tba_dem.bounds.left-1e3, tba_dem.bounds.bottom-1e3, tba_dem.bounds.right+1e3, tba_dem.bounds.top+1e3]\n",
    "ref_dem = ref_dem.crop(clip_geom)\n",
    "# Load glacier outlines to use as mask\n",
    "glacier_outlines = gu.Vector(glacier_outlines_fn)\n",
    "# Reproject to reference DEM grid\n",
    "tba_dem = tba_dem.reproject(ref_dem)\n",
    "glacier_outlines = glacier_outlines.reproject(ref_dem)\n",
    "ss_mask = ~glacier_outlines.create_mask(ref_dem) # stable (non-glacier) surfaces mask\n",
    "\n",
    "# Plot\n",
    "fig, ax = plt.subplots()\n",
    "tba_dem.plot(ax=ax, cmap='terrain')\n",
    "glacier_outlines.plot(ax=ax, facecolor='None', edgecolor='k')\n",
    "ax.set_xlim(clip_geom[0], clip_geom[2])\n",
    "ax.set_ylim(clip_geom[1], clip_geom[3])\n",
    "plt.show()\n"
   ]
  },
  {
   "cell_type": "code",
   "execution_count": null,
   "metadata": {},
   "outputs": [],
   "source": [
    "# Calculate difference before\n",
    "diff_before = tba_dem - ref_dem\n",
    "\n",
    "# Deramp\n",
    "print('Deramping...')\n",
    "deramp = xdem.coreg.Deramp(poly_order=2).fit(ref_dem, tba_dem, ss_mask)\n",
    "dem_deramp = deramp.apply(tba_dem)\n",
    "\n",
    "# Coregister\n",
    "print('Coregistering...')\n",
    "coreg = xdem.coreg.NuthKaab().fit(ref_dem, dem_deramp, ss_mask)\n",
    "dem_deramp_coreg = coreg.apply(dem_deramp)\n",
    "\n",
    "# Calculate difference after\n",
    "diff_after = dem_deramp_coreg - ref_dem\n",
    "\n",
    "# Save results\n",
    "dem_deramp_coreg.save(out_fn)\n",
    "print('Deramped, coregistered DEM saved to file:', out_fn)\n",
    "\n",
    "# Plot results\n",
    "fig, ax = plt.subplots(1, 2, figsize=(12,5))\n",
    "diff_before.plot(ax=ax[0], cmap='coolwarm_r', vmin=-100, vmax=100)\n",
    "ax[0].set_title('dDEM')\n",
    "diff_after.plot(ax=ax[1], cmap='coolwarm_r', vmin=-100, vmax=100)\n",
    "ax[1].set_title('Deramped, coregistered dDEM')\n",
    "plt.show()"
   ]
  },
  {
   "cell_type": "code",
   "execution_count": null,
   "metadata": {},
   "outputs": [],
   "source": []
  }
 ],
 "metadata": {
  "kernelspec": {
   "display_name": "skysat_snow_env",
   "language": "python",
   "name": "python3"
  },
  "language_info": {
   "codemirror_mode": {
    "name": "ipython",
    "version": 3
   },
   "file_extension": ".py",
   "mimetype": "text/x-python",
   "name": "python",
   "nbconvert_exporter": "python",
   "pygments_lexer": "ipython3",
   "version": "3.11.10"
  }
 },
 "nbformat": 4,
 "nbformat_minor": 2
}
