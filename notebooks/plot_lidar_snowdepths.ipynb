{
 "cells": [
  {
   "cell_type": "markdown",
   "metadata": {},
   "source": [
    "# Plot lidar-derived snow depths"
   ]
  },
  {
   "cell_type": "code",
   "execution_count": 1,
   "metadata": {},
   "outputs": [],
   "source": [
    "import os\n",
    "import glob\n",
    "import matplotlib.pyplot as plt\n",
    "import rioxarray as rxr\n",
    "import numpy as np"
   ]
  },
  {
   "cell_type": "code",
   "execution_count": null,
   "metadata": {},
   "outputs": [],
   "source": [
    "data_dir = '/Volumes/LaCie/raineyaberle/Research/PhD/Skysat-Stereo/study-sites/MCS/lidar_snow_depth'\n",
    "sd_fns = sorted(glob.glob(os.path.join(data_dir, '*.tif')))\n",
    "sd_fns"
   ]
  },
  {
   "cell_type": "code",
   "execution_count": null,
   "metadata": {},
   "outputs": [],
   "source": [
    "for sd_fn in sd_fns:\n",
    "    sd = rxr.open_rasterio(sd_fn).squeeze()\n",
    "    sd = sd.coarsen(x=10, boundary='trim').mean().coarsen(y=10, boundary='trim').mean()\n",
    "\n",
    "    fig, ax = plt.subplots()\n",
    "    vmax = np.nanpercentile(sd.data, 99)\n",
    "    sd.plot(cmap='Blues', ax=ax, vmin=0, vmax=vmax)\n",
    "    ax.set_title(os.path.basename(sd_fn))\n",
    "    plt.show()"
   ]
  },
  {
   "cell_type": "code",
   "execution_count": null,
   "metadata": {},
   "outputs": [],
   "source": []
  }
 ],
 "metadata": {
  "kernelspec": {
   "display_name": "skysat_snow_env",
   "language": "python",
   "name": "python3"
  },
  "language_info": {
   "codemirror_mode": {
    "name": "ipython",
    "version": 3
   },
   "file_extension": ".py",
   "mimetype": "text/x-python",
   "name": "python",
   "nbconvert_exporter": "python",
   "pygments_lexer": "ipython3",
   "version": "3.11.10"
  }
 },
 "nbformat": 4,
 "nbformat_minor": 2
}
