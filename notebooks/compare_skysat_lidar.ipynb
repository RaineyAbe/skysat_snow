{
 "cells": [
  {
   "cell_type": "markdown",
   "metadata": {},
   "source": [
    "# Difference snow depth estimates from SkySat and Lidar"
   ]
  },
  {
   "cell_type": "code",
   "execution_count": null,
   "metadata": {},
   "outputs": [],
   "source": [
    "import os\n",
    "import matplotlib.pyplot as plt\n",
    "import xdem\n",
    "import geoutils as gu\n",
    "import numpy as np\n",
    "import pandas as pd\n",
    "import seaborn as sns"
   ]
  },
  {
   "cell_type": "code",
   "execution_count": null,
   "metadata": {},
   "outputs": [],
   "source": [
    "data_dir = '/Volumes/LaCie/raineyaberle/Research/PhD/SkySat-Stereo/study-sites/MCS'\n",
    "skysat_sd_fn = os.path.join(data_dir, '20240420', 'skysat_snow_nofilter', 'ddem_from_original_DEM.tif')\n",
    "snow_mask_fn = os.path.join(data_dir, '20240420', 'skysat_snow_nofilter', 'land_cover_masks', 'snow_mask.tif')\n",
    "refdem_fn = os.path.join(data_dir, 'refdem', 'MCS_REFDEM_WGS84.tif')\n",
    "lidar_sd_fn = os.path.join(data_dir, 'SNEX_MCS_Lidar', 'SNEX_MCS_Lidar_20240418_SD_V01.0.tif')\n",
    "out_dir = os.path.join(data_dir, '20240420', 'skysat-lidar_nofilter')\n",
    "\n",
    "# Load input files\n",
    "skysat_sd = xdem.DEM(skysat_sd_fn)\n",
    "refdem = xdem.DEM(refdem_fn).reproject(skysat_sd)\n",
    "lidar_sd = xdem.DEM(lidar_sd_fn).reproject(skysat_sd)\n",
    "# snow_mask = gu.Raster(snow_mask_fn, load_data=True).reproject(skysat_sd)\n",
    "# snow_mask = (snow_mask==1)\n",
    "# # Mask pixels not snow-covered\n",
    "# skysat_sd.set_mask(~snow_mask)"
   ]
  },
  {
   "cell_type": "code",
   "execution_count": null,
   "metadata": {},
   "outputs": [],
   "source": [
    "fig, ax = plt.subplots(2, 3, figsize=(12,8), gridspec_kw=dict(height_ratios=[2,1]))\n",
    "vmin, vmax = -2, 5\n",
    "bins = np.linspace(vmin, vmax, 50)\n",
    "for i, sd in enumerate([skysat_sd, lidar_sd]):\n",
    "    # map\n",
    "    sd.plot(ax=ax[0,i], cmap='Blues', vmin=0, vmax=vmax)\n",
    "    ax[0,i].set_xticks([])\n",
    "    ax[0,i].set_yticks([])\n",
    "    # histogram\n",
    "    hist = ax[1,i].hist(sd.data.ravel(), bins=bins)\n",
    "    median = np.nanmedian(sd)\n",
    "    ax[1,i].axvline(x=median, ymin=0, ymax=np.nanmax(hist[0])*1.2, color='k')\n",
    "    ax[1,i].set_ylim(0, np.nanmax(hist[0])*1.2)\n",
    "    ax[1,i].set_xlabel('Snow depths [m]')\n",
    "    ax[1,i].set_xlim(vmin, vmax)\n",
    "ax[0,0].set_title('SkySat')\n",
    "ax[0,1].set_title('Lidar')\n",
    "# Difference\n",
    "diff = skysat_sd - lidar_sd\n",
    "diff.plot(ax=ax[0,2], cmap='coolwarm_r', vmin=-3, vmax=3)\n",
    "ax[1,2].hist(diff.data.ravel(), bins=np.linspace(-3, 3, 50))\n",
    "ax[1,2].set_xlabel('Difference [m]')\n",
    "fig.tight_layout()\n",
    "plt.show()\n",
    "\n",
    "# Save figure\n",
    "fig_fn = os.path.join(out_dir, 'skysat-lidar.png')\n",
    "fig.savefig(fig_fn, dpi=300, bbox_inches='tight')\n",
    "print('Figure saved to file:', fig_fn)"
   ]
  },
  {
   "cell_type": "code",
   "execution_count": null,
   "metadata": {},
   "outputs": [],
   "source": [
    "# Plot the difference as a function of terrain parameters\n",
    "refdem_downsamp = refdem.reproject(res=10)\n",
    "slope = refdem_downsamp.slope()\n",
    "slope = slope.reproject(skysat_sd)\n",
    "aspect = refdem_downsamp.aspect()\n",
    "aspect = aspect.reproject(skysat_sd)\n",
    "\n",
    "# Compile all stats into dataframe\n",
    "terrain_cols = ['elevation', 'slope', 'aspect']\n",
    "stats_df = pd.DataFrame(columns=terrain_cols + ['dDEM'])\n",
    "for raster, col in zip([refdem, slope, aspect], terrain_cols):\n",
    "    stats_df[col] = raster.data.ravel()\n",
    "    # Create bins for column\n",
    "    stats_df[col + '_bin'] = pd.cut(stats_df[col], bins=25, precision=0)\n",
    "stats_df['dDEM'] = diff.data.ravel() \n",
    "stats_df.dropna(inplace=True)\n",
    "stats_df.reset_index(drop=True, inplace=True)\n",
    "\n",
    "# Plot\n",
    "fig, ax = plt.subplots(1,3, figsize=(16,6))\n",
    "for i, col in enumerate(terrain_cols):\n",
    "    sns.boxplot(stats_df, x=col + '_bin', y='dDEM', showfliers=False, ax=ax[i])\n",
    "    ax[i].set_title(col)\n",
    "    if i==0:\n",
    "        ax[i].set_ylabel('dDEM [m]')\n",
    "    ax[i].set_xlabel(col)\n",
    "    ax[i].set_xticklabels(ax[i].get_xticklabels(), rotation=90)\n",
    "    ax[i].axhline(0, color='k')\n",
    "fig.tight_layout()\n",
    "\n",
    "# Save figure\n",
    "fig_fn = os.path.join(out_dir, 'skysat-lidar_terrain_params.png')\n",
    "fig.savefig(fig_fn, dpi=300, bbox_inches='tight')\n",
    "print('Figure saved to file:', fig_fn)"
   ]
  },
  {
   "cell_type": "code",
   "execution_count": null,
   "metadata": {},
   "outputs": [],
   "source": [
    "slope.plot(vmin=0, vmax=45)"
   ]
  },
  {
   "cell_type": "code",
   "execution_count": null,
   "metadata": {},
   "outputs": [],
   "source": [
    "skysat_sd_norm = skysat_sd / np.nanmax(skysat_sd.data)\n",
    "lidar_sd_norm = lidar_sd / np.nanmax(lidar_sd.data)\n",
    "diff_norm = skysat_sd_norm - lidar_sd_norm\n",
    "print(f'Median normalized difference = {np.nanmedian(diff_norm.data)}')\n",
    "\n",
    "fig, ax = plt.subplots(2, 1, figsize=(6,10), gridspec_kw=dict(height_ratios=[2,1]))\n",
    "diff_norm.plot(cmap='coolwarm_r', vmin=-0.2, vmax=0.2, ax=ax[0])\n",
    "ax[1].hist(diff_norm.data.ravel(), bins=np.linspace(-0.2, 0.2, 50))\n",
    "plt.show()"
   ]
  },
  {
   "cell_type": "code",
   "execution_count": null,
   "metadata": {},
   "outputs": [],
   "source": [
    "()"
   ]
  },
  {
   "cell_type": "code",
   "execution_count": null,
   "metadata": {},
   "outputs": [],
   "source": []
  }
 ],
 "metadata": {
  "kernelspec": {
   "display_name": "skysat_snow_env",
   "language": "python",
   "name": "python3"
  },
  "language_info": {
   "codemirror_mode": {
    "name": "ipython",
    "version": 3
   },
   "file_extension": ".py",
   "mimetype": "text/x-python",
   "name": "python",
   "nbconvert_exporter": "python",
   "pygments_lexer": "ipython3",
   "version": "3.11.10"
  }
 },
 "nbformat": 4,
 "nbformat_minor": 2
}
