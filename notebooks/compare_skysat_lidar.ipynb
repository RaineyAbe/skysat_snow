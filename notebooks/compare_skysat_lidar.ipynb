{
 "cells": [
  {
   "cell_type": "markdown",
   "metadata": {},
   "source": [
    "# Difference snow depth estimates from SkySat and Lidar"
   ]
  },
  {
   "cell_type": "code",
   "execution_count": 1,
   "metadata": {},
   "outputs": [],
   "source": [
    "import os\n",
    "import matplotlib.pyplot as plt\n",
    "import xdem\n",
    "import geoutils as gu\n",
    "import numpy as np\n",
    "import pandas as pd\n",
    "import seaborn as sns"
   ]
  },
  {
   "cell_type": "code",
   "execution_count": null,
   "metadata": {},
   "outputs": [],
   "source": [
    "data_dir = '/Volumes/LaCie/raineyaberle/Research/PhD/SkySat-Stereo/study-sites/MCS'\n",
    "skysat_sd_fn = os.path.join(data_dir, '20240420', 'skysat_snow', 'corr_coreg_diff', 'final_ddem.tif')\n",
    "snow_mask_fn = os.path.join(data_dir, '20240420', 'skysat_snow', 'land_cover_masks', 'snow_mask.tif')\n",
    "refdem_fn = os.path.join(data_dir, 'refdem', 'MCS_REFDEM_WGS84.tif')\n",
    "lidar_sd_fn = os.path.join(data_dir, 'lidar_snow_depth', 'MCS_20240418_snowdepth.tif')\n",
    "out_dir = os.path.join(data_dir, '20240420', 'skysat-lidar')\n",
    "\n",
    "# Load input files\n",
    "skysat_sd = xdem.DEM(skysat_sd_fn)\n",
    "refdem = xdem.DEM(refdem_fn).reproject(skysat_sd)\n",
    "lidar_sd = xdem.DEM(lidar_sd_fn).reproject(skysat_sd)\n",
    "snow_mask = gu.Raster(snow_mask_fn, load_data=True).reproject(skysat_sd)\n",
    "snow_mask = (snow_mask==1)\n",
    "# Mask pixels not snow-covered\n",
    "skysat_sd.set_mask(~snow_mask)"
   ]
  },
  {
   "cell_type": "code",
   "execution_count": null,
   "metadata": {},
   "outputs": [],
   "source": [
    "fig, ax = plt.subplots(2, 3, figsize=(12,8), gridspec_kw=dict(height_ratios=[2,1]))\n",
    "vmin, vmax = -2, 5\n",
    "bins = np.linspace(vmin, vmax, 50)\n",
    "for i, sd in enumerate([skysat_sd, lidar_sd]):\n",
    "    # map\n",
    "    sd.plot(ax=ax[0,i], cmap='Blues', vmin=0, vmax=vmax)\n",
    "    ax[0,i].set_xticks([])\n",
    "    ax[0,i].set_yticks([])\n",
    "    # histogram\n",
    "    hist = ax[1,i].hist(sd.data.ravel(), bins=bins)\n",
    "    median = np.nanmedian(sd)\n",
    "    ax[1,i].axvline(x=median, ymin=0, ymax=np.nanmax(hist[0])*1.2, color='k')\n",
    "    ax[1,i].set_ylim(0, np.nanmax(hist[0])*1.2)\n",
    "    ax[1,i].set_xlabel('Snow depths [m]')\n",
    "    ax[1,i].set_xlim(vmin, vmax)\n",
    "ax[0,0].set_title('SkySat')\n",
    "ax[0,1].set_title('Lidar')\n",
    "# Difference\n",
    "diff = skysat_sd - lidar_sd\n",
    "diff.plot(ax=ax[0,2], cmap='coolwarm_r', vmin=-3, vmax=3)\n",
    "ax[1,2].hist(diff.data.ravel(), bins=np.linspace(-3, 3, 50))\n",
    "ax[1,2].set_xlabel('Difference [m]')\n",
    "fig.tight_layout()\n",
    "plt.show()\n",
    "\n",
    "# Save figure\n",
    "fig_fn = os.path.join(out_dir, 'skysat-lidar.png')\n",
    "fig.savefig(fig_fn, dpi=300, bbox_inches='tight')\n",
    "print('Figure saved to file:', fig_fn)"
   ]
  },
  {
   "cell_type": "code",
   "execution_count": null,
   "metadata": {},
   "outputs": [],
   "source": [
    "plt.hist((diff / lidar_sd).data.ravel(), bins=np.linspace(-3, 3, 50))"
   ]
  },
  {
   "cell_type": "code",
   "execution_count": null,
   "metadata": {},
   "outputs": [],
   "source": [
    "# Plot the difference as a function of terrain parameters\n",
    "slope = refdem.slope()\n",
    "aspect = refdem.aspect()\n",
    "\n",
    "# Compile all stats into dataframe\n",
    "terrain_cols = ['elevation', 'slope', 'aspect']\n",
    "stats_df = pd.DataFrame(columns=terrain_cols + ['dDEM'])\n",
    "for raster, col in zip([refdem, slope, aspect], terrain_cols):\n",
    "    stats_df[col] = raster.data.ravel()\n",
    "    # Create bins for column\n",
    "    stats_df[col + '_bin'] = pd.cut(stats_df[col], bins=25, precision=0)\n",
    "stats_df['dDEM'] = diff.data.ravel() \n",
    "stats_df.dropna(inplace=True)\n",
    "stats_df.reset_index(drop=True, inplace=True)\n",
    "\n",
    "# Plot\n",
    "fig, ax = plt.subplots(1,3, figsize=(16,6))\n",
    "for i, col in enumerate(terrain_cols):\n",
    "    sns.boxplot(stats_df, x=col + '_bin', y='dDEM', showfliers=False, ax=ax[i])\n",
    "    ax[i].set_title(col)\n",
    "    if i==0:\n",
    "        ax[i].set_ylabel('dDEM [m]')\n",
    "    ax[i].set_xlabel(col)\n",
    "    ax[i].set_xticklabels(ax[i].get_xticklabels(), rotation=90)\n",
    "    ax[i].axhline(0, color='k')\n",
    "fig.tight_layout()\n",
    "\n",
    "# Save figure\n",
    "fig_fn = os.path.join(out_dir, 'skysat-lidar_terrain_params.png')\n",
    "fig.savefig(fig_fn, dpi=300, bbox_inches='tight')\n",
    "print('Figure saved to file:', fig_fn)"
   ]
  },
  {
   "cell_type": "code",
   "execution_count": null,
   "metadata": {},
   "outputs": [],
   "source": []
  }
 ],
 "metadata": {
  "kernelspec": {
   "display_name": "skysat_snow_env",
   "language": "python",
   "name": "python3"
  },
  "language_info": {
   "codemirror_mode": {
    "name": "ipython",
    "version": 3
   },
   "file_extension": ".py",
   "mimetype": "text/x-python",
   "name": "python",
   "nbconvert_exporter": "python",
   "pygments_lexer": "ipython3",
   "version": "3.11.10"
  }
 },
 "nbformat": 4,
 "nbformat_minor": 2
}
