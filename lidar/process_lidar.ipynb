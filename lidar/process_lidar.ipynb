{
 "cells": [
  {
   "cell_type": "markdown",
   "id": "5b4789ab-5b40-490a-b4f4-a248de819264",
   "metadata": {},
   "source": [
    "# Rasterize Lidar point clouds, mosaic observations captured same day"
   ]
  },
  {
   "cell_type": "code",
   "execution_count": null,
   "id": "4b5cb7e2-5618-4d1c-bab6-6af957fc4ca0",
   "metadata": {},
   "outputs": [],
   "source": [
    "# ### Run this cell if using Google Colab\n",
    "# # Install PDAL\n",
    "# !apt-get install -y software-properties-common\n",
    "# !add-apt-repository -y ppa:ubuntugis/ubuntugis-unstable\n",
    "# !apt-get update\n",
    "# !apt-get install -y pdal\n",
    "# # Mount Google Drive to access files\n",
    "# from google.colab import drive\n",
    "# drive.mount('/content/drive')"
   ]
  },
  {
   "cell_type": "code",
   "execution_count": null,
   "id": "1051b873-eee6-4601-8673-1d56f334e129",
   "metadata": {},
   "outputs": [],
   "source": [
    "import os\n",
    "import glob\n",
    "import subprocess\n",
    "import xarray as xr\n",
    "import rioxarray as rxr\n",
    "from tqdm.auto import tqdm\n",
    "import matplotlib.pyplot as plt\n",
    "import numpy as np"
   ]
  },
  {
   "cell_type": "code",
   "execution_count": null,
   "id": "03a86c8c-f128-451a-b6c5-7e39af2e8191",
   "metadata": {},
   "outputs": [],
   "source": [
    "json_fn = \"/Users/raineyaberle/Research/PhD/SnowDEMs/snow-dems/pdal_pipeline.json\"\n",
    "in_dir = \"/Users/raineyaberle/Research/PhD/SnowDEMs/MCS/lidar/20210310\"\n",
    "out_dir = in_dir\n",
    "resolution = 10"
   ]
  },
  {
   "cell_type": "markdown",
   "id": "70111acb-e155-4864-a4c1-7caeaf1fea13",
   "metadata": {},
   "source": [
    "## Rasterize individual LAZ files using PDAL"
   ]
  },
  {
   "cell_type": "code",
   "execution_count": null,
   "id": "31b4081b-4fd9-4e71-9683-b7cac2e0b0b2",
   "metadata": {},
   "outputs": [],
   "source": [
    "# Grab all LAZ file names\n",
    "fns = sorted(glob.glob(os.path.join(in_dir, '*.laz')))\n",
    "\n",
    "# Iterate over files\n",
    "for fn in tqdm(fns):\n",
    "    # Remove spaces and dashes from file name (causes issues with subprocess)\n",
    "    bn = os.path.basename(fn)\n",
    "    bn_new = fn.replace(' ','').replace('-','_')\n",
    "    os.rename(os.path.join(in_dir, bn), os.path.join(in_dir, bn_new))\n",
    "\n",
    "    # Run the PDAL pipeline if output file doesn't exist\n",
    "    out_fn = os.path.join(out_dir, bn_new.replace('.laz', f'_{resolution}m.tif'))\n",
    "    if not os.path.exists(out_fn):\n",
    "        cmd = f\"pdal pipeline {json_fn} --readers.las.filename={fn} --writers.gdal.resolution={resolution} --writers.gdal.filename={out_fn}\"\n",
    "        output = subprocess.run(cmd, shell=True, capture_output=True)\n",
    "    "
   ]
  },
  {
   "cell_type": "code",
   "execution_count": null,
   "id": "4592e5bf-711f-4c84-a43b-2d9417332abc",
   "metadata": {},
   "outputs": [],
   "source": [
    "# Optional: Plot TIF files\n",
    "fns = sorted(glob.glob(os.path.join(out_dir, f'*_{resolution}m.tif')))\n",
    "for fn in fns:\n",
    "    im = xr.open_dataset(fn)\n",
    "    plt.imshow(im.band_data[0].data, cmap='terrain',\n",
    "               extent=(np.min(im.x.data), np.max(im.x.data), \n",
    "                       np.min(im.y.data), np.max(im.y.data)))\n",
    "    plt.show()"
   ]
  },
  {
   "cell_type": "markdown",
   "id": "2987e546-b4c0-4a05-825c-03c7c9db1c51",
   "metadata": {},
   "source": [
    "## Mosaic TIFs from same date"
   ]
  },
  {
   "cell_type": "code",
   "execution_count": null,
   "id": "00f5a555-9749-48ea-aefc-81f3c783a7c3",
   "metadata": {},
   "outputs": [],
   "source": [
    "fns = sorted(glob.glob(os.path.join(out_dir, f'*_{resolution}m.tif')))\n",
    "out_fn = os.path.join(out_dir, \n",
    "                      os.path.basename(fns[0])[0:14] + f\"_{resolution}m_MOSAIC.tif\")\n",
    "\n",
    "if not os.path.exists(out_fn):\n",
    "    cmd = f\"gdal_merge.py\"\n",
    "    for fn in fns:\n",
    "        cmd += f\" {fn}\"\n",
    "    \n",
    "    cmd += f\" -o {out_fn}\"\n",
    "    \n",
    "    output = subprocess.run(cmd, shell=True, capture_output=True)\n",
    "    print(output)\n",
    "\n",
    "# Load and plot\n",
    "im = xr.open_dataset(out_fn)\n",
    "im = xr.where(im==0, np.nan, im)\n",
    "plt.imshow(im.band_data[0].data, cmap='terrain',\n",
    "               extent=(np.min(im.x.data), np.max(im.x.data), \n",
    "                       np.min(im.y.data), np.max(im.y.data)))\n",
    "plt.show()"
   ]
  },
  {
   "cell_type": "code",
   "execution_count": null,
   "id": "de100a9b-39f2-4f73-94bb-63cbd0930a64",
   "metadata": {},
   "outputs": [],
   "source": []
  }
 ],
 "metadata": {
  "kernelspec": {
   "display_name": "snow-dems",
   "language": "python",
   "name": "snow-dems"
  },
  "language_info": {
   "codemirror_mode": {
    "name": "ipython",
    "version": 3
   },
   "file_extension": ".py",
   "mimetype": "text/x-python",
   "name": "python",
   "nbconvert_exporter": "python",
   "pygments_lexer": "ipython3",
   "version": "3.12.3"
  }
 },
 "nbformat": 4,
 "nbformat_minor": 5
}
