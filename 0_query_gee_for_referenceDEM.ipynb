{
 "cells": [
  {
   "cell_type": "markdown",
   "id": "9fb7a339-be26-4f3d-b899-de0b9df80f1f",
   "metadata": {},
   "source": [
    "# Query Google Earth Engine (GEE) for reference DEM to use the SkySat triplet stereo pipeline"
   ]
  },
  {
   "cell_type": "code",
   "execution_count": null,
   "id": "482473c0-6260-425b-bc28-e9527a7e4b43",
   "metadata": {},
   "outputs": [],
   "source": [
    "import os, glob, ee\n",
    "import numpy as np\n",
    "import geopandas as gpd\n",
    "import geedim as gd\n",
    "import matplotlib.pyplot as plt\n",
    "import math\n",
    "import xarray as xr\n",
    "import rioxarray as rxr\n",
    "from shapely.geometry import Polygon\n",
    "import json\n",
    "import subprocess\n",
    "import pyproj"
   ]
  },
  {
   "cell_type": "markdown",
   "id": "f283e218-d319-4fe4-a0ec-756ca4b4b808",
   "metadata": {},
   "source": [
    "## Define input and output files"
   ]
  },
  {
   "cell_type": "code",
   "execution_count": null,
   "id": "b3da9aa8-5f2a-41a3-8ee9-92805447c1fe",
   "metadata": {},
   "outputs": [],
   "source": [
    "buffer = 10e3 # [m] how much to buffer the AOI before clipping DEM \n",
    "\n",
    "site_name = 'BGOTUS-Gulkana'\n",
    "date = '20230402'\n",
    "im_path = f'/Volumes/LaCie/raineyaberle/Research/PhD/SkySat-Stereo/study-sites/{site_name}/{date}/SkySatScene/'\n",
    "dem_path = f'/Volumes/LaCie/raineyaberle/Research/PhD/SkySat-Stereo/study-sites/{site_name}/refdem/'"
   ]
  },
  {
   "cell_type": "markdown",
   "id": "2ebab79e-b370-4814-b2d0-525e0cb8c7a3",
   "metadata": {},
   "source": [
    "## Calculate image bounds and buffer"
   ]
  },
  {
   "cell_type": "code",
   "execution_count": null,
   "id": "997b3c6a-66b3-42dc-afff-44fb77d2f384",
   "metadata": {},
   "outputs": [],
   "source": [
    "def convert_wgs_to_utm(lon: float, lat: float):\n",
    "    \"\"\"\n",
    "    Return best UTM epsg-code based on WGS84 lat and lon coordinate pair\n",
    "\n",
    "    Parameters\n",
    "    ----------\n",
    "    lon: float\n",
    "        longitude coordinate\n",
    "    lat: float\n",
    "        latitude coordinate\n",
    "\n",
    "    Returns\n",
    "    ----------\n",
    "    epsg_code: str\n",
    "        optimal UTM zone, e.g. \"EPSG:32606\"\n",
    "    \"\"\"\n",
    "    utm_band = str((math.floor((lon + 180) / 6) % 60) + 1)\n",
    "    if len(utm_band) == 1:\n",
    "        utm_band = '0' + utm_band\n",
    "    if lat >= 0:\n",
    "        epsg_code = 'EPSG:326' + utm_band\n",
    "        return epsg_code\n",
    "    epsg_code = 'EPSG:327' + utm_band\n",
    "    return epsg_code"
   ]
  },
  {
   "cell_type": "code",
   "execution_count": null,
   "id": "47deef48-5df9-4131-8718-547d63255500",
   "metadata": {},
   "outputs": [],
   "source": [
    "# Load metadata file names\n",
    "meta_fns = sorted(glob.glob(os.path.join(im_path, '*_metadata.json')))\n",
    "\n",
    "# Iterate over files\n",
    "xmin, xmax, ymin, ymax = 1e10, -1e10, 1e10, -1e10\n",
    "for meta_fn in meta_fns[0:1]:\n",
    "    meta = json.load(open(meta_fn))\n",
    "    bounds = np.array(meta['geometry']['coordinates'])[0]\n",
    "    xbounds, ybounds = bounds[:,0], bounds[:,1]\n",
    "    xmin_im, xmax_im, ymin_im, ymax_im = np.min(xbounds), np.max(xbounds), np.min(ybounds), np.max(ybounds)\n",
    "    if xmin_im < xmin:\n",
    "        xmin = xmin_im\n",
    "    if xmax_im > xmax:\n",
    "        xmax = xmax_im\n",
    "    if ymin_im < ymin:\n",
    "        ymin = ymin_im\n",
    "    if ymax_im > ymax:\n",
    "        ymax = ymax_im\n",
    "\n",
    "# Create bounding geometry and buffer\n",
    "bounds_poly = Polygon([[xmin, ymin], [xmax, ymin], [xmax, ymax], [xmin, ymax], [xmin, ymin]])\n",
    "bounds_gdf = gpd.GeoDataFrame(geometry=[bounds_poly], crs='EPSG:4326')\n",
    "epsg_utm = convert_wgs_to_utm(bounds_poly.centroid.coords.xy[0][0], bounds_poly.centroid.coords.xy[1][0])\n",
    "print(f'Optimal UTM zone = {epsg_utm}')\n",
    "bounds_utm_gdf = bounds_gdf.to_crs(epsg_utm)\n",
    "bounds_utm_buffer_gdf = bounds_utm_gdf.buffer(buffer)\n",
    "bounds_buffer_gdf = bounds_utm_buffer_gdf.to_crs('EPSG:4326')\n",
    "\n",
    "# Plot\n",
    "fig, ax = plt.subplots(1,1,figsize=(6,6))\n",
    "ax.plot(*bounds_gdf.geometry[0].exterior.coords.xy, '-k', label='Image bounds')\n",
    "ax.plot(*bounds_buffer_gdf.geometry[0].exterior.coords.xy, '-m', label='Clipping geometry')\n",
    "ax.legend(loc='upper right')\n",
    "plt.show()\n"
   ]
  },
  {
   "cell_type": "markdown",
   "id": "1289ed33-bdc2-4439-9235-96138dadfd09",
   "metadata": {},
   "source": [
    "## Initialize GEE"
   ]
  },
  {
   "cell_type": "code",
   "execution_count": null,
   "id": "0f4f6fee-7414-442b-be97-7321d9da1785",
   "metadata": {},
   "outputs": [],
   "source": [
    "try:\n",
    "    ee.Initialize()\n",
    "except:\n",
    "    ee.Authenticate()\n",
    "    ee.Intialize()"
   ]
  },
  {
   "cell_type": "markdown",
   "id": "9cc62ec6-7a20-40f2-a780-f567768fc41e",
   "metadata": {},
   "source": [
    "## Query GEE for the Copernicus Global DEM, clip, save to file"
   ]
  },
  {
   "cell_type": "code",
   "execution_count": null,
   "id": "9d9492ec-5add-40dd-8f7a-10ef7f27c351",
   "metadata": {},
   "outputs": [],
   "source": [
    "def query_gee_for_dem(aoi, out_fn=None, crs='EPSG:4326', scale=30):\n",
    "    \"\"\"\n",
    "    Query GEE for the ArcticDEM Mosaic (where there is coverage) or the NASADEM,\n",
    "    clip to the AOI, and return as xarray.Dataset.\n",
    "\n",
    "    Parameters\n",
    "    ----------\n",
    "    aoi: geopandas.geodataframe.GeoDataFrame\n",
    "        area of interest used for clipping the DEM \n",
    "    out_fn: str\n",
    "        file name for output DEM\n",
    "    crs: str\n",
    "        Coordinate Reference System of output DEM\n",
    "\n",
    "    Returns\n",
    "    ----------\n",
    "    dem_ds: xarray.Dataset\n",
    "        dataset of elevations over the AOI\n",
    "    \"\"\"\n",
    "\n",
    "    # Reproject AOI to EPSG:4326 if necessary\n",
    "    aoi_wgs = aoi.to_crs('EPSG:4326')\n",
    "\n",
    "    # Reformat AOI for querying and clipping DEM\n",
    "    region = {'type': 'Polygon',\n",
    "              'coordinates': [[\n",
    "                  [aoi_wgs.geometry.bounds.minx[0], aoi_wgs.geometry.bounds.miny[0]],\n",
    "                  [aoi_wgs.geometry.bounds.maxx[0], aoi_wgs.geometry.bounds.miny[0]],\n",
    "                  [aoi_wgs.geometry.bounds.maxx[0], aoi_wgs.geometry.bounds.maxy[0]],\n",
    "                  [aoi_wgs.geometry.bounds.minx[0], aoi_wgs.geometry.bounds.maxy[0]],\n",
    "                  [aoi_wgs.geometry.bounds.minx[0], aoi_wgs.geometry.bounds.miny[0]]\n",
    "              ]]\n",
    "              }\n",
    "\n",
    "    # Query GEE for DEM\n",
    "    dem_col = gd.MaskedCollection.from_name(\"COPERNICUS/DEM/GLO30\").search(start_date='1900-01-01',\n",
    "                                                                           end_date='2025-01-01',\n",
    "                                                                           region=region)\n",
    "    # Mosaic all images over the region\n",
    "    dem_im = dem_col.composite(method='mosaic')\n",
    "\n",
    "    # Download DEM \n",
    "    if not os.path.exists(out_fn):\n",
    "        dem_im.download(out_fn, region=region, scale=scale, bands=['DEM'], crs=crs)\n",
    "\n",
    "    # Reproject from the EGM96 geoid to the WGS84 ellipsoid\n",
    "    s_crs = pyproj.CRS.from_epsg(int(crs.split(':')[1]))\n",
    "    s_proj_string = s_crs.to_proj4() + \" +vunits=m +nodefs\"\n",
    "    t_proj_string = s_proj_string \n",
    "    s_proj_string += f' +geoidgrids=egm96_15.gtx'\n",
    "    out_ellip_fn = out_fn.replace('.tif', '_WGS84_ellipsoid.tif')\n",
    "    cmd = f'''gdalwarp -s_srs \"{s_proj_string}\" -t_srs \"{t_proj_string}\" {out_fn} {out_ellip_fn}'''\n",
    "    output = subprocess.run(cmd, capture_output=True, shell=True)\n",
    "    print(output)\n",
    "    print('DEM reprojected to the WGS84 ellipsoid and saved to file:', out_ellip_fn)\n",
    "\n",
    "    # Simplify CRS to UTM Zone without ellipsoidal height\n",
    "    out_ellip_utm_fn = out_ellip_fn.replace('.tif', '_UTM.tif')\n",
    "    cmd = f'''gdalwarp -s_srs \"{t_proj_string}\" -t_srs \"+proj=utm +zone=7 +datum=WGS84\" {out_ellip_fn} {out_ellip_utm_fn}'''\n",
    "    output = subprocess.run(cmd, capture_output=True, shell=True)\n",
    "    print(output)\n",
    "    print('DEM reprojected to UTM Zone 7N and saved to file:', out_ellip_utm_fn)\n",
    "\n",
    "    # Fill holes\n",
    "    out_ellip_utm_filled_fn = out_ellip_utm_fn.replace('.tif', '_filled.tif')\n",
    "    cmd = f\"gdal_fillnodata {out_ellip_utm_fn} {out_ellip_utm_filled_fn}\"\n",
    "    output = subprocess.run(cmd, capture_output=True, shell=True)\n",
    "    print(output)\n",
    "    print('DEM with holes filled saved to file:', out_ellip_utm_filled_fn)\n",
    "\n",
    "    # Open DEM as xarray.DataArray and plot\n",
    "    dem = rxr.open_rasterio(out_ellip_utm_filled_fn).squeeze()\n",
    "    fig, ax = plt.subplots()\n",
    "    dem_im = ax.imshow(dem.data, cmap='terrain',\n",
    "              extent=(np.min(dem.x.data), np.max(dem.x.data), \n",
    "                      np.min(dem.y.data), np.max(dem.y.data)))\n",
    "    fig.colorbar(dem_im, ax=ax, label='Elevation [m]')\n",
    "    ax.set_title(os.path.basename(out_ellip_utm_filled_fn))\n",
    "    plt.show()\n",
    "    \n",
    "    return dem\n"
   ]
  },
  {
   "cell_type": "code",
   "execution_count": null,
   "id": "0b849e4d-98a2-4283-9049-ebd832eb165c",
   "metadata": {},
   "outputs": [],
   "source": [
    "# Make sure output directory exists\n",
    "if not os.path.exists(dem_path):\n",
    "    os.mkdir(dem_path)\n",
    "    print('Made directory for output file:', dem_path)\n",
    "# Define output file name\n",
    "dem_fn = os.path.join(dem_path, f\"{site_name}_COPDEM_clip_buffer_{int(buffer/1e3)}km.tif\")\n",
    "# Query and download DEM\n",
    "dem_ds = query_gee_for_dem(bounds_buffer_gdf, out_fn=dem_fn, crs=epsg_utm)"
   ]
  },
  {
   "cell_type": "code",
   "execution_count": null,
   "id": "65395be3-fe36-4aae-a8b7-cd3264ff64d5",
   "metadata": {},
   "outputs": [],
   "source": []
  }
 ],
 "metadata": {
  "kernelspec": {
   "display_name": "snow-dems",
   "language": "python",
   "name": "snow-dems"
  },
  "language_info": {
   "codemirror_mode": {
    "name": "ipython",
    "version": 3
   },
   "file_extension": ".py",
   "mimetype": "text/x-python",
   "name": "python",
   "nbconvert_exporter": "python",
   "pygments_lexer": "ipython3",
   "version": "3.11.9"
  }
 },
 "nbformat": 4,
 "nbformat_minor": 5
}
